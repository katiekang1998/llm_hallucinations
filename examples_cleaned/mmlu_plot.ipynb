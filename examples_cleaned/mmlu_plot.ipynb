{
 "cells": [
  {
   "cell_type": "code",
   "execution_count": 10,
   "metadata": {},
   "outputs": [],
   "source": [
    "import numpy as np \n",
    "import matplotlib.pyplot as plt\n",
    "import os\n",
    "import scipy"
   ]
  },
  {
   "cell_type": "code",
   "execution_count": 3,
   "metadata": {},
   "outputs": [],
   "source": [
    "five_shot_likelihoods = np.load(\"base_model_few_shot_accuracy/mmlu/\" + f\"eval_A_to_D_probs.npy\")\n",
    "correct_answer_idxs = np.load(\"base_model_few_shot_accuracy/mmlu/\" + f\"eval_answers.npy\")\n",
    "\n",
    "five_shot_likelihoods = five_shot_likelihoods[np.arange(0, len(five_shot_likelihoods)), correct_answer_idxs]\n",
    "neg_log_likelihoods = -np.log(five_shot_likelihoods)\n"
   ]
  },
  {
   "cell_type": "code",
   "execution_count": 11,
   "metadata": {},
   "outputs": [],
   "source": [
    "model_path = \"ckpts/rm_mmlu_unfamiliar_incorrect/checkpoint_10000/hf_model/\"\n",
    "EVAL_TYPE = \"correct_only\"\n",
    "logits = np.load(os.path.join(model_path, f\"test_{EVAL_TYPE}_logits.npy\"))\n",
    "logits = scipy.special.softmax(logits, axis=-1)\n",
    "\n",
    "\n",
    "neg_log_likelihood_bins = [0, 0.02, 0.5, 1, 1.5, 2,]\n",
    "True_likelihoods_mean = []\n",
    "True_likelihoods_std = []\n",
    "neg_log_likelihoods_bin_means = []\n",
    "\n",
    "for i in range(len(neg_log_likelihood_bins) - 1):\n",
    "    bin_idxs = np.where((neg_log_likelihoods > neg_log_likelihood_bins[i]) & (neg_log_likelihoods < neg_log_likelihood_bins[i+1]))[0]\n",
    "    True_likelihoods_mean.append(logits[bin_idxs, 0].mean())\n",
    "\n",
    "    True_likelihoods_std.append(logits[bin_idxs, 0].std())\n",
    "    neg_log_likelihoods_bin_means.append(neg_log_likelihoods[bin_idxs].mean())\n",
    "\n",
    "\n",
    "axs[j].plot(neg_log_likelihoods_bin_means, A_to_D_likelihoods[\"A\"], \"o-\", label=\"A\", linewidth=5, markersize=15, alpha=0.8)\n",
    "axs[j].fill_between(neg_log_likelihoods_bin_means, np.array(A_to_D_likelihoods[\"A\"]) - np.array(A_to_D_likelihood_stds[\"A\"]), np.array(A_to_D_likelihoods[\"A\"]) + np.array(A_to_D_likelihood_stds[\"A\"]), alpha=0.2)\n",
    "axs[j].plot(neg_log_likelihoods_bin_means, A_to_D_likelihoods[\"B\"], \"o-\", label=\"B\", linewidth=5, markersize=15, alpha=0.8)\n",
    "axs[j].fill_between(neg_log_likelihoods_bin_means, np.array(A_to_D_likelihoods[\"B\"]) - np.array(A_to_D_likelihood_stds[\"B\"]), np.array(A_to_D_likelihoods[\"B\"]) + np.array(A_to_D_likelihood_stds[\"B\"]), alpha=0.2)\n",
    "axs[j].plot(neg_log_likelihoods_bin_means, A_to_D_likelihoods[\"C\"], \"o-\", label=\"C\", linewidth=5, markersize=15, alpha=0.8)\n",
    "axs[j].fill_between(neg_log_likelihoods_bin_means, np.array(A_to_D_likelihoods[\"C\"]) - np.array(A_to_D_likelihood_stds[\"C\"]), np.array(A_to_D_likelihoods[\"C\"]) + np.array(A_to_D_likelihood_stds[\"C\"]), alpha=0.2)\n",
    "axs[j].plot(neg_log_likelihoods_bin_means, A_to_D_likelihoods[\"D\"], \"o-\", label=\"D\", linewidth=5, markersize=15, alpha=0.8)\n",
    "axs[j].fill_between(neg_log_likelihoods_bin_means, np.array(A_to_D_likelihoods[\"D\"]) - np.array(A_to_D_likelihood_stds[\"D\"]), np.array(A_to_D_likelihoods[\"D\"]) + np.array(A_to_D_likelihood_stds[\"D\"]), alpha=0.2)\n",
    "\n",
    "axs[j].legend(fontsize=15)\n",
    "# axs[j].axhline(0.25, linestyle = \"--\" ,color = \"black\",  linewidth=2, alpha=0.8)\n",
    "# axs[j].axhline(0, linestyle = \"--\" ,color = \"black\",  linewidth=1.5, alpha=0.8)\n",
    "\n",
    "# axs[j].set_xticklabels(fontsize=15)\n",
    "axs[j].set_yticks([0 ,0.25, 0.5, 0.75, 1], [0.00 ,\"$\\mathbf{0.25}$\", 0.5, 0.75, 1.0])\n",
    "axs[j].set_ylim([-0.15, 1.15])\n",
    "axs[j].xaxis.set_tick_params(labelsize=15)\n",
    "axs[j].yaxis.set_tick_params(labelsize=20)\n",
    "# axs[j].set_xlabel(\"Test Input Difficulty (NLL)\", fontsize=20)\n",
    "if j==0:\n",
    "    axs[j].set_ylabel(\"$\\mathbf{Standard}$ $\\mathbf{SFT}$\\nPredicted likelihoods (A-D)\", fontsize=20)\n",
    "axs[j].set_title(\"Ground truth label: $\\mathbf{\"+labels[j]+\"}$\", fontsize=25)\n",
    "axs[j].spines['bottom'].set_linewidth(2)\n",
    "axs[j].spines['left'].set_linewidth(2)\n",
    "\n",
    "axs[j].spines['top'].set_visible(False)\n",
    "axs[j].spines['right'].set_visible(False)\n",
    "#make spines thicker\n",
    "\n",
    "plt.savefig(\"delete2.jpg\")\n",
    "# ax = plt.gca()\n",
    "\n",
    "# plt.tick_params(axis='both', which='major', width=2)"
   ]
  },
  {
   "cell_type": "code",
   "execution_count": 12,
   "metadata": {},
   "outputs": [
    {
     "data": {
      "text/plain": [
       "[0.971878, 0.8483457, 0.26144108, 0.13580999, 0.10473294]"
      ]
     },
     "execution_count": 12,
     "metadata": {},
     "output_type": "execute_result"
    }
   ],
   "source": [
    "True_likelihoods_mean"
   ]
  },
  {
   "cell_type": "code",
   "execution_count": null,
   "metadata": {},
   "outputs": [],
   "source": []
  }
 ],
 "metadata": {
  "kernelspec": {
   "display_name": "trlx2",
   "language": "python",
   "name": "python3"
  },
  "language_info": {
   "codemirror_mode": {
    "name": "ipython",
    "version": 3
   },
   "file_extension": ".py",
   "mimetype": "text/x-python",
   "name": "python",
   "nbconvert_exporter": "python",
   "pygments_lexer": "ipython3",
   "version": "3.9.19"
  }
 },
 "nbformat": 4,
 "nbformat_minor": 2
}
