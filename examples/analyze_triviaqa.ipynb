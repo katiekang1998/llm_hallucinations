{
 "cells": [
  {
   "cell_type": "code",
   "execution_count": 44,
   "metadata": {},
   "outputs": [],
   "source": [
    "import numpy as np\n",
    "import os\n",
    "import matplotlib.pyplot as plt\n",
    "import json\n",
    "import tqdm"
   ]
  },
  {
   "cell_type": "code",
   "execution_count": 37,
   "metadata": {},
   "outputs": [],
   "source": [
    "pretrain_entities = np.load(\"/data/katie_kang/pretraining_entities/the_pile_entity_map.npz\")"
   ]
  },
  {
   "cell_type": "code",
   "execution_count": 40,
   "metadata": {},
   "outputs": [
    {
     "data": {
      "text/plain": [
       "array([151205893, 151726105, 151667745, ...,  81470969,  81907706,\n",
       "        81756155], dtype=int32)"
      ]
     },
     "execution_count": 40,
     "metadata": {},
     "output_type": "execute_result"
    }
   ],
   "source": [
    "pretrain_entities['http://dbpedia.org/resource/Horseshoes']"
   ]
  },
  {
   "cell_type": "code",
   "execution_count": 83,
   "metadata": {},
   "outputs": [],
   "source": [
    "with open(\"/data/katie_kang/qa_entities/trivia_qa_unfiltered.nocontext_validation_entities.jsonl\") as f:\n",
    "    data = f.readlines()"
   ]
  },
  {
   "cell_type": "code",
   "execution_count": 84,
   "metadata": {},
   "outputs": [
    {
     "data": {
      "text/plain": [
       "11313"
      ]
     },
     "execution_count": 84,
     "metadata": {},
     "output_type": "execute_result"
    }
   ],
   "source": [
    "len(data)"
   ]
  },
  {
   "cell_type": "code",
   "execution_count": 81,
   "metadata": {},
   "outputs": [
    {
     "data": {
      "application/vnd.jupyter.widget-view+json": {
       "model_id": "407f7ec9c3cb4f4897be6f203358f715",
       "version_major": 2,
       "version_minor": 0
      },
      "text/plain": [
       "Resolving data files:   0%|          | 0/26 [00:00<?, ?it/s]"
      ]
     },
     "metadata": {},
     "output_type": "display_data"
    },
    {
     "data": {
      "application/vnd.jupyter.widget-view+json": {
       "model_id": "0f16f57c958b49e0b21434763ebdfb68",
       "version_major": 2,
       "version_minor": 0
      },
      "text/plain": [
       "Resolving data files:   0%|          | 0/26 [00:00<?, ?it/s]"
      ]
     },
     "metadata": {},
     "output_type": "display_data"
    },
    {
     "data": {
      "application/vnd.jupyter.widget-view+json": {
       "model_id": "4280bfcad45643eebc66bf5e62e7b0b5",
       "version_major": 2,
       "version_minor": 0
      },
      "text/plain": [
       "Resolving data files:   0%|          | 0/19 [00:00<?, ?it/s]"
      ]
     },
     "metadata": {},
     "output_type": "display_data"
    },
    {
     "data": {
      "application/vnd.jupyter.widget-view+json": {
       "model_id": "d7f8ca889f2e42dfad7cc10a6e055448",
       "version_major": 2,
       "version_minor": 0
      },
      "text/plain": [
       "Resolving data files:   0%|          | 0/47 [00:00<?, ?it/s]"
      ]
     },
     "metadata": {},
     "output_type": "display_data"
    }
   ],
   "source": [
    "from datasets import load_dataset\n",
    "\n",
    "data2  = load_dataset(\"trivia_qa\", \"rc.nocontext\")"
   ]
  },
  {
   "cell_type": "code",
   "execution_count": 82,
   "metadata": {},
   "outputs": [
    {
     "data": {
      "text/plain": [
       "17944"
      ]
     },
     "execution_count": 82,
     "metadata": {},
     "output_type": "execute_result"
    }
   ],
   "source": [
    "len(data2['validation'])"
   ]
  },
  {
   "cell_type": "code",
   "execution_count": 54,
   "metadata": {},
   "outputs": [
    {
     "name": "stderr",
     "output_type": "stream",
     "text": [
      " 25%|██▌       | 2858/11313 [2:21:52<5:54:05,  2.51s/it] "
     ]
    },
    {
     "name": "stdout",
     "output_type": "stream",
     "text": [
      "http://dbpedia.org/resource/Wild_Thing_(The_Troggs_song)\n"
     ]
    },
    {
     "name": "stderr",
     "output_type": "stream",
     "text": [
      " 32%|███▏      | 3578/11313 [2:59:19<4:07:31,  1.92s/it]  "
     ]
    },
    {
     "name": "stdout",
     "output_type": "stream",
     "text": [
      "http://dbpedia.org/resource/Nemesis_(video_game)\n"
     ]
    },
    {
     "name": "stderr",
     "output_type": "stream",
     "text": [
      " 82%|████████▏ | 9265/11313 [7:56:34<36:12,  1.06s/it]    "
     ]
    },
    {
     "name": "stdout",
     "output_type": "stream",
     "text": [
      "http://dbpedia.org/resource/Magdi_Yacoub\n"
     ]
    },
    {
     "name": "stderr",
     "output_type": "stream",
     "text": [
      " 90%|█████████ | 10191/11313 [8:33:00<1:29:22,  4.78s/it]"
     ]
    },
    {
     "name": "stdout",
     "output_type": "stream",
     "text": [
      "http://dbpedia.org/resource/Mood_(song)\n"
     ]
    },
    {
     "name": "stderr",
     "output_type": "stream",
     "text": [
      "100%|██████████| 11313/11313 [9:27:07<00:00,  3.01s/it]   \n"
     ]
    }
   ],
   "source": [
    "num_intersections = []\n",
    "for i in tqdm.tqdm(range(len(data))):\n",
    "    result = json.loads(data[i])\n",
    "    a = []\n",
    "\n",
    "    for x in result['q_entities']:\n",
    "        try:\n",
    "            a.append(pretrain_entities[x['URI']])\n",
    "        except:\n",
    "            print(x['URI'])\n",
    "    if len(a) >0:\n",
    "        a = np.concatenate(a)\n",
    "        \n",
    "    b = []\n",
    "    for x in result['a_entities']:\n",
    "        try:\n",
    "            b.append(pretrain_entities[x['URI']])\n",
    "        except:\n",
    "            print(x['URI'])\n",
    "    if len(b) >0:\n",
    "        b = np.concatenate(b)\n",
    "    num_intersections.append(len(list(set(a) & set(b))))"
   ]
  },
  {
   "cell_type": "code",
   "execution_count": 56,
   "metadata": {},
   "outputs": [],
   "source": [
    "np.save(\"num_pretrain_entities/triviaqa_validation.npy\", num_intersections)"
   ]
  },
  {
   "cell_type": "code",
   "execution_count": 63,
   "metadata": {},
   "outputs": [
    {
     "data": {
      "text/plain": [
       "11313"
      ]
     },
     "execution_count": 63,
     "metadata": {},
     "output_type": "execute_result"
    }
   ],
   "source": [
    "len(num_intersections)"
   ]
  },
  {
   "cell_type": "code",
   "execution_count": 64,
   "metadata": {},
   "outputs": [
    {
     "data": {
      "text/plain": [
       "11313"
      ]
     },
     "execution_count": 64,
     "metadata": {},
     "output_type": "execute_result"
    }
   ],
   "source": [
    "len(data)"
   ]
  },
  {
   "cell_type": "code",
   "execution_count": 62,
   "metadata": {},
   "outputs": [
    {
     "data": {
      "text/plain": [
       "(array([1.0922e+04, 1.1600e+02, 1.0200e+02, 2.0000e+00, 2.0000e+00,\n",
       "        0.0000e+00, 0.0000e+00, 0.0000e+00, 1.5300e+02, 1.6000e+01]),\n",
       " array([       0. ,  3275789.8,  6551579.6,  9827369.4, 13103159.2,\n",
       "        16378949. , 19654738.8, 22930528.6, 26206318.4, 29482108.2,\n",
       "        32757898. ]),\n",
       " <BarContainer object of 10 artists>)"
      ]
     },
     "execution_count": 62,
     "metadata": {},
     "output_type": "execute_result"
    },
    {
     "data": {
      "image/png": "[encoded data removed]",
      "text/plain": [
       "<Figure size 640x480 with 1 Axes>"
      ]
     },
     "metadata": {},
     "output_type": "display_data"
    }
   ],
   "source": [
    "idxs = np.where(np.array(num_intersections)!=-1)[0]\n",
    "\n",
    "plt.hist(np.array(num_intersections)[idxs])"
   ]
  },
  {
   "cell_type": "code",
   "execution_count": 61,
   "metadata": {},
   "outputs": [
    {
     "data": {
      "text/plain": [
       "array([    0,     1,     2, ..., 11310, 11311, 11312])"
      ]
     },
     "execution_count": 61,
     "metadata": {},
     "output_type": "execute_result"
    }
   ],
   "source": [
    "idxs"
   ]
  },
  {
   "cell_type": "code",
   "execution_count": 33,
   "metadata": {},
   "outputs": [
    {
     "data": {
      "text/plain": [
       "(array([9.811e+03, 1.320e+03, 1.650e+02, 1.400e+01, 2.000e+00, 0.000e+00,\n",
       "        0.000e+00, 1.000e+00]),\n",
       " array([0., 1., 2., 3., 4., 5., 6., 7., 8.]),\n",
       " <BarContainer object of 8 artists>)"
      ]
     },
     "execution_count": 33,
     "metadata": {},
     "output_type": "execute_result"
    },
    {
     "data": {
      "image/png": "[encoded data removed]",
      "text/plain": [
       "<Figure size 640x480 with 1 Axes>"
      ]
     },
     "metadata": {},
     "output_type": "display_data"
    }
   ],
   "source": []
  },
  {
   "cell_type": "code",
   "execution_count": 34,
   "metadata": {},
   "outputs": [
    {
     "data": {
      "text/plain": [
       "0.8672323875187837"
      ]
     },
     "execution_count": 34,
     "metadata": {},
     "output_type": "execute_result"
    }
   ],
   "source": [
    "num_intersections = np.array(num_intersections)\n",
    "(num_intersections==0).sum()/len(num_intersections)"
   ]
  },
  {
   "cell_type": "code",
   "execution_count": 86,
   "metadata": {},
   "outputs": [],
   "source": [
    "model_path = \"ckpts/sft_triviaqa_llama7B/checkpoint_20000/hf_model/\"\n",
    "\n",
    "sft_answer_log_probs_mean_all = np.load(os.path.join(model_path, \"test_answer_log_probs_mean_all.npy\"))\n",
    "\n",
    "sft_answers_correct = np.load(os.path.join(model_path, \"test_answers_correct.npy\"))\n"
   ]
  },
  {
   "cell_type": "code",
   "execution_count": 87,
   "metadata": {},
   "outputs": [
    {
     "data": {
      "text/plain": [
       "11313"
      ]
     },
     "execution_count": 87,
     "metadata": {},
     "output_type": "execute_result"
    }
   ],
   "source": [
    "len(sft_answers_correct)"
   ]
  },
  {
   "cell_type": "code",
   "execution_count": 88,
   "metadata": {},
   "outputs": [
    {
     "data": {
      "text/plain": [
       "(array([2.0000e+00, 2.0000e+00, 0.0000e+00, 1.2000e+01, 5.1000e+01,\n",
       "        2.2300e+02, 5.7000e+02, 1.4730e+03, 4.1160e+03, 1.1495e+04]),\n",
       " array([-1.16655135e+00, -1.04991640e+00, -9.33281444e-01, -8.16646490e-01,\n",
       "        -7.00011536e-01, -5.83376582e-01, -4.66741628e-01, -3.50106674e-01,\n",
       "        -2.33471720e-01, -1.16836766e-01, -2.01811694e-04]),\n",
       " <BarContainer object of 10 artists>)"
      ]
     },
     "execution_count": 88,
     "metadata": {},
     "output_type": "execute_result"
    },
    {
     "data": {
      "image/png": "[encoded data removed]",
      "text/plain": [
       "<Figure size 640x480 with 1 Axes>"
      ]
     },
     "metadata": {},
     "output_type": "display_data"
    }
   ],
   "source": [
    "plt.hist(sft_answer_log_probs_mean_all)"
   ]
  },
  {
   "cell_type": "code",
   "execution_count": 151,
   "metadata": {},
   "outputs": [],
   "source": [
    "\n",
    "sft_answer_log_probs_mean_all = np.array(num_intersections)\n",
    "percentiles = [0, 5, 10, 20, 40, 60, 80, 100]\n",
    "nll_bins = np.percentile(-sft_answer_log_probs_mean_all, percentiles)\n",
    "\n",
    "nll_bins = -1*np.array([np.inf, 2e7, 1e6, 1e4, 1e2, 0])"
   ]
  },
  {
   "cell_type": "code",
   "execution_count": 152,
   "metadata": {},
   "outputs": [
    {
     "data": {
      "text/plain": [
       "32757898"
      ]
     },
     "execution_count": 152,
     "metadata": {},
     "output_type": "execute_result"
    }
   ],
   "source": [
    "np.max(sft_answer_log_probs_mean_all)"
   ]
  },
  {
   "cell_type": "code",
   "execution_count": 153,
   "metadata": {},
   "outputs": [
    {
     "name": "stdout",
     "output_type": "stream",
     "text": [
      "169\n",
      "702\n",
      "4699\n",
      "3375\n",
      "295\n"
     ]
    }
   ],
   "source": [
    "accuracies = []\n",
    "\n",
    "for i in range(len(nll_bins) - 1):\n",
    "    bin_lower = nll_bins[i]\n",
    "    bin_upper = nll_bins[i + 1]\n",
    "\n",
    "    indices = np.where((-sft_answer_log_probs_mean_all >= bin_lower) & (-sft_answer_log_probs_mean_all < bin_upper))[0]\n",
    "    print(len(indices))\n",
    "\n",
    "    accuracies.append(np.mean(sft_answers_correct[indices]))"
   ]
  },
  {
   "cell_type": "code",
   "execution_count": 154,
   "metadata": {},
   "outputs": [
    {
     "data": {
      "text/plain": [
       "[0.8165680473372781,\n",
       " 0.7008547008547008,\n",
       " 0.6403490104277506,\n",
       " 0.562962962962963,\n",
       " 0.38305084745762713]"
      ]
     },
     "execution_count": 154,
     "metadata": {},
     "output_type": "execute_result"
    }
   ],
   "source": [
    "accuracies"
   ]
  },
  {
   "cell_type": "code",
   "execution_count": 155,
   "metadata": {},
   "outputs": [
    {
     "data": {
      "text/plain": [
       "<matplotlib.legend.Legend at 0x7f67e417b970>"
      ]
     },
     "execution_count": 155,
     "metadata": {},
     "output_type": "execute_result"
    },
    {
     "data": {
      "image/png": "[encoded data removed]",
      "text/plain": [
       "<Figure size 640x480 with 1 Axes>"
      ]
     },
     "metadata": {},
     "output_type": "display_data"
    }
   ],
   "source": [
    "plt.bar([0, 1, 2, 3, 4], [1, 1, 1, 1, 1], color=\"red\", label = \"Incorrect\")\n",
    "plt.bar([0, 1, 2, 3, 4], accuracies, color=\"green\", label = \"Correct\")\n",
    "\n",
    "plt.xlabel(\"Uncertainty\")\n",
    "plt.ylabel(\"Ratio\")\n",
    "plt.legend()"
   ]
  },
  {
   "cell_type": "code",
   "execution_count": 156,
   "metadata": {},
   "outputs": [],
   "source": [
    "model_path = \"ckpts/sft2_triviaqa_llama7B_t0.9/checkpoint_20000/hf_model/\"\n",
    "\n",
    "sft2_answers_correct = np.load(os.path.join(model_path, \"test_answers_correct.npy\"))\n",
    "sft2_answers_dont_know = np.load(os.path.join(model_path, \"test_answers_dont_know.npy\"))"
   ]
  },
  {
   "cell_type": "code",
   "execution_count": 95,
   "metadata": {},
   "outputs": [
    {
     "data": {
      "text/plain": [
       "0.7418193717277487"
      ]
     },
     "execution_count": 95,
     "metadata": {},
     "output_type": "execute_result"
    }
   ],
   "source": [
    "sft2_answers_correct\n",
    "\n",
    "idxs = np.where(sft2_answers_dont_know == 0)[0]\n",
    "sft2_answers_correct[idxs].mean()\n",
    "\n",
    "# (1- sft2_answers_dont_know - sft2_answers_correct).mean()"
   ]
  },
  {
   "cell_type": "code",
   "execution_count": 96,
   "metadata": {},
   "outputs": [
    {
     "data": {
      "text/plain": [
       "0.4232299124900557"
      ]
     },
     "execution_count": 96,
     "metadata": {},
     "output_type": "execute_result"
    }
   ],
   "source": [
    "(1- sft_answers_correct).mean()"
   ]
  },
  {
   "cell_type": "code",
   "execution_count": 157,
   "metadata": {},
   "outputs": [],
   "source": [
    "accuracies = []\n",
    "dont_know_frac = []\n",
    "\n",
    "for i in range(len(nll_bins) - 1):\n",
    "    bin_lower = nll_bins[i]\n",
    "    bin_upper = nll_bins[i + 1]\n",
    "\n",
    "    indices = np.where((-sft_answer_log_probs_mean_all >= bin_lower) & (-sft_answer_log_probs_mean_all < bin_upper))[0]\n",
    "\n",
    "    accuracies.append(np.mean(sft2_answers_correct[indices]))\n",
    "    dont_know_frac.append(np.mean(sft2_answers_dont_know[indices]))\n",
    "\n",
    "accuracies = np.array(accuracies)\n",
    "dont_know_frac = np.array(dont_know_frac)\n",
    "selective_accuracies = accuracies/(1-np.array(dont_know_frac))"
   ]
  },
  {
   "cell_type": "code",
   "execution_count": 158,
   "metadata": {},
   "outputs": [
    {
     "data": {
      "text/plain": [
       "array([0.87969925, 0.82182628, 0.78187071, 0.72619048, 0.57291667])"
      ]
     },
     "execution_count": 158,
     "metadata": {},
     "output_type": "execute_result"
    }
   ],
   "source": [
    "accuracies/(1-np.array(dont_know_frac))"
   ]
  },
  {
   "cell_type": "code",
   "execution_count": 159,
   "metadata": {},
   "outputs": [
    {
     "data": {
      "text/plain": [
       "<matplotlib.legend.Legend at 0x7f67d25ef400>"
      ]
     },
     "execution_count": 159,
     "metadata": {},
     "output_type": "execute_result"
    },
    {
     "data": {
      "image/png": "[encoded data removed]",
      "text/plain": [
       "<Figure size 640x480 with 1 Axes>"
      ]
     },
     "metadata": {},
     "output_type": "display_data"
    }
   ],
   "source": [
    "plt.bar([0, 1, 2, 3, 4], [1, 1, 1, 1, 1], color=\"red\", label=\"Incorrect\")\n",
    "plt.bar([0, 1, 2, 3, 4], accuracies+dont_know_frac, color=\"blue\", label=\"IDK\")\n",
    "\n",
    "plt.bar([0, 1, 2, 3, 4], accuracies, color=\"green\", label=\"Correct\")\n",
    "plt.xlabel(\"Uncertainty\")\n",
    "plt.ylabel(\"Ratio\")\n",
    "\n",
    "plt.legend()\n",
    "\n"
   ]
  },
  {
   "cell_type": "code",
   "execution_count": 81,
   "metadata": {},
   "outputs": [
    {
     "data": {
      "text/plain": [
       "array([0.85511284, 0.71384787, 0.52090301, 0.24331104, 0.03705768])"
      ]
     },
     "execution_count": 81,
     "metadata": {},
     "output_type": "execute_result"
    }
   ],
   "source": [
    "accuracies"
   ]
  },
  {
   "cell_type": "code",
   "execution_count": 74,
   "metadata": {},
   "outputs": [
    {
     "data": {
      "text/plain": [
       "[<matplotlib.lines.Line2D at 0x7f14d6204370>]"
      ]
     },
     "execution_count": 74,
     "metadata": {},
     "output_type": "execute_result"
    },
    {
     "data": {
      "image/png": "[encoded data removed]",
      "text/plain": [
       "<Figure size 640x480 with 1 Axes>"
      ]
     },
     "metadata": {},
     "output_type": "display_data"
    }
   ],
   "source": [
    "\n",
    "\n",
    "\n",
    "plt.plot(accuracies, \"o-\")\n",
    "\n",
    "plt.plot(selective_accuracies, \"o-\")"
   ]
  },
  {
   "cell_type": "code",
   "execution_count": null,
   "metadata": {},
   "outputs": [],
   "source": []
  }
 ],
 "metadata": {
  "kernelspec": {
   "display_name": "Python 3",
   "language": "python",
   "name": "python3"
  },
  "language_info": {
   "codemirror_mode": {
    "name": "ipython",
    "version": 3
   },
   "file_extension": ".py",
   "mimetype": "text/x-python",
   "name": "python",
   "nbconvert_exporter": "python",
   "pygments_lexer": "ipython3",
   "version": "3.9.18"
  }
 },
 "nbformat": 4,
 "nbformat_minor": 2
}
