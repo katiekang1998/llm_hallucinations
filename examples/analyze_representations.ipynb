{
 "cells": [
  {
   "cell_type": "code",
   "execution_count": 1,
   "metadata": {},
   "outputs": [],
   "source": [
    "import numpy as np\n",
    "from sklearn.linear_model import LinearRegression, SGDClassifier\n"
   ]
  },
  {
   "cell_type": "code",
   "execution_count": 2,
   "metadata": {},
   "outputs": [],
   "source": [
    "generated_answer_log_probs_mean_test = np.load(\"ckpts/sft_ctrex_llama7B_2_commit_lr1e-5_2/checkpoint_30000/hf_model/generated_answer_log_probs_mean_test.npy\")\n",
    "hidden_states_test = np.load(\"ckpts/ppo_ctrex_llama7B_commit35_idk10/best_checkpoint/hf_model/hidden_states_test.npy\")\n",
    "\n",
    "\n",
    "# generation_categories_ood = np.load(\"ckpts/ppo_ctrex_llama7B_commit35_idk10/best_checkpoint/hf_model/generation_categories.npy\")\n",
    "# hidden_states_ood = np.load(\"ckpts/ppo_ctrex_llama7B_commit35_idk10/best_checkpoint/hf_model/hidden_states_ood.npy\")"
   ]
  },
  {
   "cell_type": "code",
   "execution_count": 5,
   "metadata": {},
   "outputs": [
    {
     "data": {
      "text/plain": [
       "(13, 311574, 4096)"
      ]
     },
     "execution_count": 5,
     "metadata": {},
     "output_type": "execute_result"
    }
   ],
   "source": [
    "hidden_states_ood.shape"
   ]
  },
  {
   "cell_type": "code",
   "execution_count": 3,
   "metadata": {},
   "outputs": [],
   "source": [
    "layer=8"
   ]
  },
  {
   "cell_type": "code",
   "execution_count": 4,
   "metadata": {},
   "outputs": [],
   "source": [
    "mean = np.load(\"ckpts/ppo_ctrex_llama7B_commit35_idk10/best_checkpoint/hf_model/linear_regression_train_mean.npy\")\n",
    "coef = np.load(\"ckpts/ppo_ctrex_llama7B_commit35_idk10/best_checkpoint/hf_model/linear_regression_coef.npy\")\n",
    "intercept = np.load(\"ckpts/ppo_ctrex_llama7B_commit35_idk10/best_checkpoint/hf_model/linear_regression_intercept.npy\")"
   ]
  },
  {
   "cell_type": "code",
   "execution_count": 15,
   "metadata": {},
   "outputs": [],
   "source": [
    "idk_idxs = np.where(generation_categories_ood[:, 3]==1)[0]\n",
    "commit_idxs = np.where(generation_categories_ood[:, 3]==0)[0]\n",
    "\n",
    "idk_prejected_representation_norms = (np.dot(hidden_states_ood[layer, idk_idxs, :] - mean, coef.T)+intercept).squeeze()\n",
    "commit_prejected_representation_norms = (np.dot(hidden_states_ood[layer, commit_idxs, :] - mean, coef.T)+intercept).squeeze()"
   ]
  },
  {
   "cell_type": "code",
   "execution_count": 16,
   "metadata": {},
   "outputs": [
    {
     "data": {
      "image/png": "[encoded data removed]",
      "text/plain": [
       "<Figure size 640x480 with 1 Axes>"
      ]
     },
     "metadata": {},
     "output_type": "display_data"
    }
   ],
   "source": [
    "import matplotlib.pyplot as plt\n",
    "\n",
    "plt.hist(idk_prejected_representation_norms, bins=100, alpha=0.5, label=\"idk\")\n",
    "plt.hist(commit_prejected_representation_norms, bins=100, alpha=0.5, label=\"commit\")\n",
    "plt.savefig(\"ckpts/ppo_ctrex_llama7B_commit35_idk10/best_checkpoint/hf_model/linear_regression_norms.png\")"
   ]
  },
  {
   "cell_type": "code",
   "execution_count": 37,
   "metadata": {},
   "outputs": [],
   "source": [
    "mean = hidden_states_test[layer].mean(axis=0)"
   ]
  },
  {
   "cell_type": "code",
   "execution_count": 5,
   "metadata": {},
   "outputs": [],
   "source": [
    "np.save(\"ckpts/ppo_ctrex_llama7B_commit35_idk10/best_checkpoint/hf_model/linear_regression_train_mean.npy\", mean)"
   ]
  },
  {
   "cell_type": "code",
   "execution_count": null,
   "metadata": {},
   "outputs": [],
   "source": [
    "train_idxs = np.random.choice(len(X), int(0.8*len(X)), replace=False)\n",
    "test_idxs = np.array([i for i in range(len(X)) if i not in train_idxs])"
   ]
  },
  {
   "cell_type": "code",
   "execution_count": 38,
   "metadata": {},
   "outputs": [],
   "source": [
    "X = hidden_states_test[layer]-mean\n",
    "y = np.exp(generated_answer_log_probs_mean_test)\n",
    "# y = generation_categories_test[:, 1]\n",
    "\n",
    "X_train = X[train_idxs]\n",
    "y_train = y[train_idxs]"
   ]
  },
  {
   "cell_type": "code",
   "execution_count": 39,
   "metadata": {},
   "outputs": [
    {
     "data": {
      "text/plain": [
       "0.5858814776926007"
      ]
     },
     "execution_count": 39,
     "metadata": {},
     "output_type": "execute_result"
    }
   ],
   "source": [
    "from sklearn.linear_model import LinearRegression, SGDClassifier, SGDRegressor\n",
    "\n",
    "reg = SGDRegressor(alpha=.01).fit(X_train, y_train)\n",
    "reg.score(X, y)\n"
   ]
  },
  {
   "cell_type": "code",
   "execution_count": 40,
   "metadata": {},
   "outputs": [
    {
     "ename": "",
     "evalue": "",
     "output_type": "error",
     "traceback": [
      "\u001b[1;31mThe Kernel crashed while executing code in the the current cell or a previous cell. Please review the code in the cell(s) to identify a possible cause of the failure. Click <a href='https://aka.ms/vscodeJupyterKernelCrash'>here</a> for more info. View Jupyter <a href='command:jupyter.viewOutput'>log</a> for further details."
     ]
    }
   ],
   "source": [
    "X_test = (hidden_states_test[layer] - mean)[test_idxs]\n",
    "y_test = (np.exp(generated_answer_log_probs_mean_test))[test_idxs]\n",
    "\n",
    "reg.score(X_test, y_test)"
   ]
  },
  {
   "cell_type": "code",
   "execution_count": 18,
   "metadata": {},
   "outputs": [
    {
     "data": {
      "text/plain": [
       "(1, 4096)"
      ]
     },
     "execution_count": 18,
     "metadata": {},
     "output_type": "execute_result"
    }
   ],
   "source": [
    "reg.coef_.shape"
   ]
  },
  {
   "cell_type": "code",
   "execution_count": 20,
   "metadata": {},
   "outputs": [
    {
     "data": {
      "text/plain": [
       "array([-0.27034284])"
      ]
     },
     "execution_count": 20,
     "metadata": {},
     "output_type": "execute_result"
    }
   ],
   "source": [
    "reg.intercept_"
   ]
  },
  {
   "cell_type": "code",
   "execution_count": 21,
   "metadata": {},
   "outputs": [],
   "source": [
    "np.save(\"ckpts/ppo_ctrex_llama7B_commit35_idk10/best_checkpoint/hf_model/linear_regression_coef.npy\", reg.coef_)\n",
    "np.save(\"ckpts/ppo_ctrex_llama7B_commit35_idk10/best_checkpoint/hf_model/linear_regression_intercept.npy\", reg.intercept_)"
   ]
  },
  {
   "cell_type": "code",
   "execution_count": 23,
   "metadata": {},
   "outputs": [
    {
     "data": {
      "text/plain": [
       "array([[ 0.03779775, -0.34711057, -0.17647992, ...,  0.29834545,\n",
       "        -0.05283997,  0.36210227]], dtype=float32)"
      ]
     },
     "execution_count": 23,
     "metadata": {},
     "output_type": "execute_result"
    }
   ],
   "source": [
    "# safe_sparse_dot(X, self.coef_.T, dense_output=True) + self.intercept_\n",
    "\n",
    "\n",
    "np.load(\"ckpts/ppo_ctrex_llama7B_commit35_idk10/best_checkpoint/hf_model/linear_regression_coef.npy\")"
   ]
  },
  {
   "cell_type": "code",
   "execution_count": null,
   "metadata": {},
   "outputs": [],
   "source": []
  }
 ],
 "metadata": {
  "kernelspec": {
   "display_name": "trlx",
   "language": "python",
   "name": "python3"
  },
  "language_info": {
   "codemirror_mode": {
    "name": "ipython",
    "version": 3
   },
   "file_extension": ".py",
   "mimetype": "text/x-python",
   "name": "python",
   "nbconvert_exporter": "python",
   "pygments_lexer": "ipython3",
   "version": "3.9.18"
  }
 },
 "nbformat": 4,
 "nbformat_minor": 2
}
