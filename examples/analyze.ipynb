{
 "cells": [
  {
   "cell_type": "code",
   "execution_count": 6,
   "metadata": {},
   "outputs": [],
   "source": [
    "import numpy as np\n",
    "import matplotlib.pyplot as plt"
   ]
  },
  {
   "cell_type": "code",
   "execution_count": 7,
   "metadata": {},
   "outputs": [],
   "source": [
    "sft_model_path =  \"ckpts/sft_lama_GPT2_commit_lr5e-7/checkpoint_10000/hf_model\"\n",
    "ppo_model_path = \"ckpts/ppo_lama_GPT2_commit30_hedge0_0_idk10_lr5e-6/checkpoint_10000/hf_model\""
   ]
  },
  {
   "cell_type": "code",
   "execution_count": 14,
   "metadata": {},
   "outputs": [],
   "source": [
    "sft_generation_categories = np.load(sft_model_path+\"/generation_categories.npy\")\n",
    "ppo_generation_categories = np.load(ppo_model_path+\"/generation_categories.npy\")\n",
    "# np.stack([np.array(kwargs[\"split\"]), commit_correct, commit_wrong, dont_know, wrong, hedge_correct, hedge_wrong], axis=1)"
   ]
  },
  {
   "cell_type": "code",
   "execution_count": 44,
   "metadata": {},
   "outputs": [],
   "source": [
    "ood_idxs = np.where(sft_generation_categories[:, 0]==3)[0]\n",
    "test_idxs = np.where(sft_generation_categories[:, 0]==2)[0]"
   ]
  },
  {
   "cell_type": "code",
   "execution_count": 27,
   "metadata": {},
   "outputs": [
    {
     "name": "stdout",
     "output_type": "stream",
     "text": [
      "[0.62535211 0.04741784 0.32723005]\n"
     ]
    }
   ],
   "source": [
    "sft_correct  = np.where(sft_generation_categories[:, 1]==1)[0]\n",
    "sft_correct_ppo_correct = len(np.where(ppo_generation_categories[sft_correct, 1]==1)[0])\n",
    "sft_correct_ppo_wrong = len(np.where(ppo_generation_categories[sft_correct, 2]==1)[0])\n",
    "sft_correct_ppo_idk = len(np.where(ppo_generation_categories[sft_correct, 3]==1)[0])\n",
    "print(np.array([sft_correct_ppo_correct,sft_correct_ppo_wrong,sft_correct_ppo_idk])/(sft_correct_ppo_correct+sft_correct_ppo_wrong+sft_correct_ppo_idk))"
   ]
  },
  {
   "cell_type": "code",
   "execution_count": 29,
   "metadata": {},
   "outputs": [
    {
     "name": "stdout",
     "output_type": "stream",
     "text": [
      "[0.05189137 0.30407371 0.64403492]\n"
     ]
    }
   ],
   "source": [
    "sft_wrong  = np.where(sft_generation_categories[:, 2]==1)[0]\n",
    "sft_wrong_ppo_correct = len(np.where(ppo_generation_categories[sft_wrong, 1]==1)[0])\n",
    "sft_wrong_ppo_wrong = len(np.where(ppo_generation_categories[sft_wrong, 2]==1)[0])\n",
    "sft_wrong_ppo_idk = len(np.where(ppo_generation_categories[sft_wrong, 3]==1)[0])\n",
    "print(np.array([sft_wrong_ppo_correct,sft_wrong_ppo_wrong,sft_wrong_ppo_idk])/(sft_wrong_ppo_correct+sft_wrong_ppo_wrong+sft_wrong_ppo_idk))"
   ]
  },
  {
   "cell_type": "code",
   "execution_count": 134,
   "metadata": {},
   "outputs": [],
   "source": [
    "answer_log_probs_mean = np.load(sft_model_path+\"/answer_log_probs_mean.npy\")\n",
    "answer_log_probs_sum = np.load(sft_model_path+\"/answer_log_probs_sum.npy\")\n"
   ]
  },
  {
   "cell_type": "code",
   "execution_count": 30,
   "metadata": {},
   "outputs": [],
   "source": [
    "sft_hidden_states = np.load(sft_model_path+\"/hidden_states.npy\")\n",
    "ppo_hidden_states = np.load(ppo_model_path+\"/hidden_states.npy\")"
   ]
  },
  {
   "cell_type": "code",
   "execution_count": 111,
   "metadata": {},
   "outputs": [],
   "source": [
    "# np.linalg.norm(sft_hidden_states[1][sft_correct]-sft_hidden_states[1].mean(axis=0), axis=-1).std()\n",
    "# np.linalg.norm(sft_hidden_states[1][sft_wrong]-sft_hidden_states[1].mean(axis=0), axis=-1).std()\n",
    "\n",
    "ppo_idk_idxs = np.where(ppo_generation_categories[:, 3] == 1)[0]\n",
    "ppo_not_idk_idxs = np.where(ppo_generation_categories[:, 3] == 0)[0]\n",
    "\n",
    "# plt.hist(np.linalg.norm(sft_hidden_states[1][sft_correct]-sft_hidden_states[1].mean(axis=0), axis=-1), density=True, alpha=0.5)\n",
    "# plt.hist(np.linalg.norm(sft_hidden_states[1][sft_wrong]-sft_hidden_states[1].mean(axis=0), axis=-1), density=True, alpha=0.5)\n",
    "# plt.savefig(\"fig.png\")\n"
   ]
  },
  {
   "cell_type": "code",
   "execution_count": 154,
   "metadata": {},
   "outputs": [
    {
     "name": "stdout",
     "output_type": "stream",
     "text": [
      "0\n",
      "0.2634764415985984\n",
      "0.2192002868339371\n",
      "-0.0017637407285688855\n",
      "1\n",
      "-7.100216281439427e+35\n",
      "-3.013837937438014e+35\n",
      "-1.296957962930272e+33\n",
      "2\n",
      "-2.43158396625009e+36\n",
      "-1.1490348496094731e+36\n",
      "-5.227925904302104e+33\n",
      "3\n",
      "-5.919449109072684e+36\n",
      "-3.051664696601109e+36\n",
      "-2.3834493380417064e+34\n",
      "4\n",
      "-8.158362715295396e+38\n",
      "-2.941605883592354e+38\n",
      "-7.53633446589719e+35\n",
      "5\n",
      "-3.7172180063781644e+40\n",
      "-1.3010313804921398e+40\n",
      "-2.2803052080495825e+37\n",
      "6\n",
      "-5.676365857663217e+40\n",
      "-2.0511434610126204e+40\n",
      "-5.205841633038986e+37\n",
      "7\n",
      "-2.0431731435426294e+41\n",
      "-7.173248096659118e+40\n",
      "-1.850272943996596e+38\n",
      "8\n",
      "-3.6612308570349885e+41\n",
      "-1.2370113100687811e+41\n",
      "-5.058327873698531e+38\n",
      "9\n",
      "-2.399958077636137e+41\n",
      "-8.624925207365362e+40\n",
      "-1.994887503968709e+38\n",
      "10\n",
      "-1.1287821119562472e+42\n",
      "-3.690972016297945e+41\n",
      "-4.161261421270609e+38\n",
      "11\n",
      "-1.4217442188402426e+43\n",
      "-4.807945032668427e+42\n",
      "-7.394748098241079e+39\n",
      "12\n",
      "-1.561750682191945e+43\n",
      "-5.5051233762798715e+42\n",
      "-8.793973872462887e+39\n"
     ]
    }
   ],
   "source": [
    "from sklearn.linear_model import SGDRegressor\n",
    "\n",
    "for layer in range(13):\n",
    "    X = sft_hidden_states[layer][test_idxs]\n",
    "    # y = sft_generation_categories[:, 1][test_idxs]\n",
    "    y = np.e**answer_log_probs_sum[test_idxs]\n",
    "    reg = SGDRegressor().fit(X[:2500], y[:2500])\n",
    "    print(layer)\n",
    "    print(reg.score(X[:2500], y[:2500]))\n",
    "    print(reg.score(X[2500:], y[2500:]))\n",
    "    # print(reg.score(sft_hidden_states[layer][ood_idxs], sft_generation_categories[:, 1][ood_idxs]))\n",
    "    print(reg.score(sft_hidden_states[layer][ood_idxs], np.e**answer_log_probs_sum[ood_idxs]))"
   ]
  },
  {
   "cell_type": "code",
   "execution_count": 150,
   "metadata": {},
   "outputs": [
    {
     "name": "stdout",
     "output_type": "stream",
     "text": [
      "0\n",
      "0.5888\n",
      "0.6213183730715287\n",
      "0.47264985260399606\n",
      "1\n",
      "0.8784\n",
      "0.8653576437587658\n",
      "0.7107762856207009\n",
      "2\n",
      "0.8316\n",
      "0.8176718092566619\n",
      "0.6528005240746806\n",
      "3\n",
      "0.91\n",
      "0.9158485273492286\n",
      "0.6917785784474287\n",
      "4\n",
      "0.9264\n",
      "0.9396914446002805\n",
      "0.7179823124795284\n",
      "5\n",
      "0.9328\n",
      "0.9396914446002805\n",
      "0.7061906321650835\n",
      "6\n",
      "0.9356\n",
      "0.94109396914446\n",
      "0.7160170324271209\n",
      "7\n",
      "0.9472\n",
      "0.9453015427769986\n",
      "0.7183098591549296\n",
      "8\n",
      "0.9532\n",
      "0.9424964936886395\n",
      "0.7029151654110711\n",
      "9\n",
      "0.9576\n",
      "0.9453015427769986\n",
      "0.6862102849656077\n",
      "10\n",
      "0.9652\n",
      "0.9438990182328191\n",
      "0.6940714051752375\n",
      "11\n",
      "0.9312\n",
      "0.9186535764375876\n",
      "0.6737635113003603\n",
      "12\n",
      "0.9204\n",
      "0.9256661991584852\n",
      "0.6796593514575827\n"
     ]
    }
   ],
   "source": [
    "from sklearn.linear_model import LogisticRegression\n",
    "\n",
    "for layer in range(13):\n",
    "    X = sft_hidden_states[layer][test_idxs]\n",
    "    # y = sft_generation_categories[:, 1][test_idxs]\n",
    "    y = ppo_generation_categories[:, 3][test_idxs]\n",
    "    reg = LogisticRegression(C=.1).fit(X[:2500], y[:2500])\n",
    "    print(layer)\n",
    "    print(reg.score(X[:2500], y[:2500]))\n",
    "    print(reg.score(X[2500:], y[2500:]))\n",
    "    # print(reg.score(sft_hidden_states[layer][ood_idxs], sft_generation_categories[:, 1][ood_idxs]))\n",
    "    print(reg.score(sft_hidden_states[layer][ood_idxs], ppo_generation_categories[:, 3][ood_idxs]))"
   ]
  },
  {
   "cell_type": "code",
   "execution_count": 133,
   "metadata": {},
   "outputs": [
    {
     "name": "stdout",
     "output_type": "stream",
     "text": [
      "7\n",
      "0.9724\n",
      "0.938288920056101\n",
      "0.7834916475597773\n"
     ]
    },
    {
     "name": "stderr",
     "output_type": "stream",
     "text": [
      "/data/katie_kang/miniconda3/envs/trlx/lib/python3.9/site-packages/sklearn/linear_model/_logistic.py:460: ConvergenceWarning: lbfgs failed to converge (status=1):\n",
      "STOP: TOTAL NO. of ITERATIONS REACHED LIMIT.\n",
      "\n",
      "Increase the number of iterations (max_iter) or scale the data as shown in:\n",
      "    https://scikit-learn.org/stable/modules/preprocessing.html\n",
      "Please also refer to the documentation for alternative solver options:\n",
      "    https://scikit-learn.org/stable/modules/linear_model.html#logistic-regression\n",
      "  n_iter_i = _check_optimize_result(\n"
     ]
    }
   ],
   "source": [
    "layer = 7\n",
    "X = sft_hidden_states[layer][test_idxs]\n",
    "# y = sft_generation_categories[:, 1][test_idxs]\n",
    "y = ppo_generation_categories[:, 3][test_idxs]\n",
    "reg = LogisticRegression(C=1).fit(X[:2500], y[:2500])\n",
    "print(layer)\n",
    "print(reg.score(X[:2500], y[:2500]))\n",
    "print(reg.score(X[2500:], y[2500:]))\n",
    "# print(reg.score(sft_hidden_states[layer][ood_idxs], sft_generation_categories[:, 1][ood_idxs]))\n",
    "print(reg.score(sft_hidden_states[layer][ood_idxs], ppo_generation_categories[:, 3][ood_idxs]))"
   ]
  },
  {
   "cell_type": "code",
   "execution_count": 124,
   "metadata": {},
   "outputs": [
    {
     "data": {
      "text/plain": [
       "array([-0.86624331,  5.35596557, -0.50840423, ..., -0.93292231,\n",
       "        2.79925149,  5.17442338])"
      ]
     },
     "execution_count": 124,
     "metadata": {},
     "output_type": "execute_result"
    }
   ],
   "source": [
    "(np.dot(X, reg.coef_[0]))"
   ]
  },
  {
   "cell_type": "code",
   "execution_count": 121,
   "metadata": {},
   "outputs": [
    {
     "data": {
      "text/plain": [
       "(1, 768)"
      ]
     },
     "execution_count": 121,
     "metadata": {},
     "output_type": "execute_result"
    }
   ],
   "source": [
    "reg.coef_.shape"
   ]
  },
  {
   "cell_type": "code",
   "execution_count": 117,
   "metadata": {},
   "outputs": [
    {
     "data": {
      "text/plain": [
       "array([-0.00555812])"
      ]
     },
     "execution_count": 117,
     "metadata": {},
     "output_type": "execute_result"
    }
   ],
   "source": [
    "reg.intercept_"
   ]
  },
  {
   "cell_type": "code",
   "execution_count": 66,
   "metadata": {},
   "outputs": [
    {
     "data": {
      "text/plain": [
       "0.6056338028169015"
      ]
     },
     "execution_count": 66,
     "metadata": {},
     "output_type": "execute_result"
    }
   ],
   "source": [
    "1-sft_generation_categories[:, 1][ood_idxs].sum()/len(sft_generation_categories[:, 1][ood_idxs])"
   ]
  },
  {
   "cell_type": "code",
   "execution_count": 68,
   "metadata": {},
   "outputs": [
    {
     "data": {
      "text/plain": [
       "0.7117958294428883"
      ]
     },
     "execution_count": 68,
     "metadata": {},
     "output_type": "execute_result"
    }
   ],
   "source": [
    "1-y.sum()/len(y)"
   ]
  },
  {
   "cell_type": "code",
   "execution_count": 114,
   "metadata": {},
   "outputs": [
    {
     "data": {
      "text/plain": [
       "0.5273501473960039"
      ]
     },
     "execution_count": 114,
     "metadata": {},
     "output_type": "execute_result"
    }
   ],
   "source": [
    "1 - ppo_generation_categories[:, 3][ood_idxs].sum()/len(ppo_generation_categories[:, 3][ood_idxs])"
   ]
  },
  {
   "cell_type": "code",
   "execution_count": null,
   "metadata": {},
   "outputs": [],
   "source": []
  }
 ],
 "metadata": {
  "kernelspec": {
   "display_name": "Python 3 (ipykernel)",
   "language": "python",
   "name": "python3"
  },
  "language_info": {
   "codemirror_mode": {
    "name": "ipython",
    "version": 3
   },
   "file_extension": ".py",
   "mimetype": "text/x-python",
   "name": "python",
   "nbconvert_exporter": "python",
   "pygments_lexer": "ipython3",
   "version": "3.9.18"
  },
  "orig_nbformat": 4
 },
 "nbformat": 4,
 "nbformat_minor": 2
}
