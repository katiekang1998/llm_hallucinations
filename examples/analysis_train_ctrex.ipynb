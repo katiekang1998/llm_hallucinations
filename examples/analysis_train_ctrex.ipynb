{
 "cells": [
  {
   "cell_type": "code",
   "execution_count": 1,
   "metadata": {},
   "outputs": [],
   "source": [
    "import numpy as np\n",
    "import matplotlib.pyplot as plt"
   ]
  },
  {
   "cell_type": "code",
   "execution_count": 2,
   "metadata": {},
   "outputs": [],
   "source": [
    "generated_answer_log_probs_mean_train = np.load(\"ckpts/sft_ctrex_llama7B_2_commit_lr1e-5_2/checkpoint_30000/hf_model/generated_answer_log_probs_mean_train.npy\", allow_pickle=True)"
   ]
  },
  {
   "cell_type": "code",
   "execution_count": 3,
   "metadata": {},
   "outputs": [],
   "source": [
    "generation_categories = np.load(\"ckpts/sft_ctrex_llama7B_2_commit_lr1e-5_2/checkpoint_30000/hf_model/generation_categories_train.npy\", allow_pickle=True)"
   ]
  },
  {
   "cell_type": "code",
   "execution_count": 4,
   "metadata": {},
   "outputs": [
    {
     "name": "stdout",
     "output_type": "stream",
     "text": [
      "threshold:  0.8 reward:  12.828399311531843\n",
      "threshold:  0.81 reward:  12.951807228915662\n",
      "threshold:  0.8200000000000001 reward:  13.070895008605852\n",
      "threshold:  0.8300000000000001 reward:  13.178450946643718\n",
      "threshold:  0.8400000000000001 reward:  13.263907056798622\n",
      "threshold:  0.8500000000000001 reward:  13.328588640275386\n",
      "threshold:  0.8600000000000001 reward:  13.3784165232358\n",
      "threshold:  0.8700000000000001 reward:  13.395456110154905\n",
      "threshold:  0.8800000000000001 reward:  13.389655765920825\n",
      "threshold:  0.8900000000000001 reward:  13.339328743545611\n",
      "threshold:  0.9000000000000001 reward:  13.244578313253012\n",
      "threshold:  0.9100000000000001 reward:  13.110309810671257\n",
      "threshold:  0.9200000000000002 reward:  12.932736660929432\n",
      "threshold:  0.9300000000000002 reward:  12.706006884681583\n",
      "threshold:  0.9400000000000002 reward:  12.437056798623065\n",
      "threshold:  0.9500000000000002 reward:  12.121411359724613\n",
      "threshold:  0.9600000000000002 reward:  11.805266781411358\n",
      "threshold:  0.9700000000000002 reward:  11.477745266781412\n",
      "threshold:  0.9800000000000002 reward:  11.101497418244406\n"
     ]
    }
   ],
   "source": [
    "thresholds = np.arange(0.8, 0.99, 0.01)\n",
    "\n",
    "for threshold in thresholds:\n",
    "    below_threshold_idxs = np.where(np.e**generated_answer_log_probs_mean_train < threshold)[0]\n",
    "    above_threshold_idxs = np.where(np.e**generated_answer_log_probs_mean_train >= threshold)[0]\n",
    "    reward = 10*len(below_threshold_idxs)/len(generated_answer_log_probs_mean_train) + 30* generation_categories[above_threshold_idxs, 1].sum()/len(generated_answer_log_probs_mean_train)\n",
    "    print(\"threshold: \", threshold, \"reward: \", reward)"
   ]
  },
  {
   "cell_type": "code",
   "execution_count": null,
   "metadata": {},
   "outputs": [],
   "source": []
  }
 ],
 "metadata": {
  "kernelspec": {
   "display_name": "Python 3.9.18 ('trlx')",
   "language": "python",
   "name": "python3"
  },
  "language_info": {
   "codemirror_mode": {
    "name": "ipython",
    "version": 3
   },
   "file_extension": ".py",
   "mimetype": "text/x-python",
   "name": "python",
   "nbconvert_exporter": "python",
   "pygments_lexer": "ipython3",
   "version": "3.9.18"
  },
  "orig_nbformat": 4,
  "vscode": {
   "interpreter": {
    "hash": "72a3fd4a13b86e2ebaa0e8e208d83864f5fab883245b2c176f0efba32410842e"
   }
  }
 },
 "nbformat": 4,
 "nbformat_minor": 2
}
