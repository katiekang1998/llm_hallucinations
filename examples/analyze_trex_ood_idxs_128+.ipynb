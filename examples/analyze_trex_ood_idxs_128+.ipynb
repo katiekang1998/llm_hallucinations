{
 "cells": [
  {
   "cell_type": "code",
   "execution_count": 1,
   "metadata": {},
   "outputs": [],
   "source": [
    "import numpy\n",
    "import datasets\n",
    "import requests\n",
    "from datasets import load_dataset\n",
    "import numpy as np\n",
    "from huggingface_hub import hf_hub_download\n",
    "import openai \n",
    "from tqdm import tqdm\n",
    "from SPARQLWrapper import SPARQLWrapper, JSON\n",
    "import matplotlib.pyplot as plt"
   ]
  },
  {
   "cell_type": "code",
   "execution_count": 3,
   "metadata": {},
   "outputs": [],
   "source": [
    "# dataset_orig = load_dataset('relbert/t_rex')\n",
    "ood_idxs_file = \"trex_ood_idxs_128+.npy\"\n",
    "ood_idxs = np.load(ood_idxs_file)\n",
    "\n",
    "trex_num_mentions = np.load(\"trex_num_mentions.npy\")\n",
    "# ood_dataset = dataset_orig[\"train\"].select(ood_idxs)"
   ]
  },
  {
   "cell_type": "code",
   "execution_count": 4,
   "metadata": {},
   "outputs": [
    {
     "data": {
      "text/plain": [
       "array([  307,   182,   355, ...,  1184, 92775,   433])"
      ]
     },
     "execution_count": 4,
     "metadata": {},
     "output_type": "execute_result"
    }
   ],
   "source": [
    "trex_num_mentions[ood_idxs]"
   ]
  },
  {
   "cell_type": "code",
   "execution_count": 6,
   "metadata": {},
   "outputs": [
    {
     "data": {
      "text/plain": [
       "(array([5788.,  480.,  145.,   61.,   49.,   36.,   15.,   16.,   14.,\n",
       "          13.]),\n",
       " array([    0.,  1000.,  2000.,  3000.,  4000.,  5000.,  6000.,  7000.,\n",
       "         8000.,  9000., 10000.]),\n",
       " <BarContainer object of 10 artists>)"
      ]
     },
     "execution_count": 6,
     "metadata": {},
     "output_type": "execute_result"
    },
    {
     "data": {
      "image/png": "[encoded data removed]",
      "text/plain": [
       "<Figure size 640x480 with 1 Axes>"
      ]
     },
     "metadata": {},
     "output_type": "display_data"
    }
   ],
   "source": [
    "plt.hist(trex_num_mentions[ood_idxs], range=(0, 10000))"
   ]
  },
  {
   "cell_type": "code",
   "execution_count": 7,
   "metadata": {},
   "outputs": [
    {
     "data": {
      "text/plain": [
       "838.5602274427653"
      ]
     },
     "execution_count": 7,
     "metadata": {},
     "output_type": "execute_result"
    }
   ],
   "source": [
    "trex_num_mentions[ood_idxs].mean()"
   ]
  },
  {
   "cell_type": "code",
   "execution_count": 9,
   "metadata": {},
   "outputs": [
    {
     "data": {
      "text/plain": [
       "283.0"
      ]
     },
     "execution_count": 9,
     "metadata": {},
     "output_type": "execute_result"
    }
   ],
   "source": [
    "np.median(trex_num_mentions[ood_idxs])"
   ]
  },
  {
   "cell_type": "code",
   "execution_count": 15,
   "metadata": {},
   "outputs": [],
   "source": [
    "ppo_model_path = \"ckpts/ppo_lama_GPT2_3_commit30_hedge25.5_6.5_idk11_cr0.0005/checkpoint_80000/hf_model\"\n",
    "ppo_generation_categories = np.load(ppo_model_path+\"/generation_categories_trex_ood_idxs_128+.npy\")\n"
   ]
  },
  {
   "cell_type": "code",
   "execution_count": 5,
   "metadata": {},
   "outputs": [],
   "source": [
    "def get_stats(generation_categories, idxs):\n",
    "\n",
    "    num_commit_correct = len(np.where(generation_categories[idxs, 1]==1)[0])\n",
    "    num_commit_wrong = len(np.where(generation_categories[idxs, 2]==1)[0])\n",
    "    num_dont_know = len(np.where(generation_categories[idxs, 3]==1)[0])\n",
    "    num_wrong = len(np.where(generation_categories[idxs, 4]==1)[0])\n",
    "    num_hedge_correct = len(np.where(generation_categories[idxs, 5]==1)[0])\n",
    "    num_hedge_wrong = len(np.where(generation_categories[idxs, 6]==1)[0])\n",
    "    num_total = len(idxs)\n",
    "    reward = (30*num_commit_correct+25.5*num_hedge_correct+6.5*num_hedge_wrong+11*(num_dont_know))/num_total\n",
    "    print(\"frac commit: \", (num_commit_correct+num_commit_wrong)/num_total)\n",
    "    a = (num_commit_correct+num_commit_wrong)/num_total\n",
    "    print(\"frac hedge: \", (num_hedge_correct+num_hedge_wrong)/num_total)\n",
    "    b = (num_hedge_correct+num_hedge_wrong)/num_total\n",
    "    print(\"frac dont know: \", num_dont_know/num_total)\n",
    "    c = num_dont_know/num_total\n",
    "    print(\"frac commit correct: \", num_commit_correct/(num_commit_correct+num_commit_wrong))\n",
    "    d = num_commit_correct/(num_commit_correct+num_commit_wrong)\n",
    "    print(\"frac hedge correct: \", num_hedge_correct/(num_hedge_correct+num_hedge_wrong))\n",
    "    e = num_hedge_correct/(num_hedge_correct+num_hedge_wrong)\n",
    "    print(\"reward: \", reward)\n",
    "    return a, b, c, d,e,reward"
   ]
  },
  {
   "cell_type": "code",
   "execution_count": 17,
   "metadata": {},
   "outputs": [
    {
     "name": "stdout",
     "output_type": "stream",
     "text": [
      "frac commit:  0.35403262008080205\n",
      "frac hedge:  0.44500972617088136\n",
      "frac dont know:  0.18883734849618436\n",
      "frac commit correct:  0.06043956043956044\n",
      "frac hedge correct:  0.03597848016139879\n",
      "reward:  5.915906030225947\n"
     ]
    },
    {
     "data": {
      "text/plain": [
       "(0.35403262008080205,\n",
       " 0.44500972617088136,\n",
       " 0.18883734849618436,\n",
       " 0.06043956043956044,\n",
       " 0.03597848016139879,\n",
       " 5.915906030225947)"
      ]
     },
     "execution_count": 17,
     "metadata": {},
     "output_type": "execute_result"
    }
   ],
   "source": [
    "get_stats(ppo_generation_categories, [_ for _ in range(len(ppo_generation_categories))])"
   ]
  },
  {
   "cell_type": "code",
   "execution_count": 4,
   "metadata": {},
   "outputs": [],
   "source": [
    "sft_model_path =  \"ckpts/sft_lama_GPT2_commit/checkpoint_10000/hf_model\"\n",
    "sft_log_liks = np.load(sft_model_path+\"/generated_answer_log_probs_mean_trex_ood_idxs_128+.npy\")\n",
    "sft_generation_categories = np.load(sft_model_path+\"/generation_categories_trex_ood_idxs_128+.npy\")"
   ]
  },
  {
   "cell_type": "code",
   "execution_count": 5,
   "metadata": {},
   "outputs": [
    {
     "data": {
      "text/plain": [
       "<matplotlib.collections.LineCollection at 0x7f3c22141c70>"
      ]
     },
     "execution_count": 5,
     "metadata": {},
     "output_type": "execute_result"
    },
    {
     "data": {
      "image/png": "[encoded data removed]",
      "text/plain": [
       "<Figure size 640x480 with 1 Axes>"
      ]
     },
     "metadata": {},
     "output_type": "display_data"
    }
   ],
   "source": [
    "plt.hist(np.e**np.array(sft_log_liks)[np.where(sft_generation_categories[:, 1]==1)[0]], density=True, alpha=0.5, label=\"commit correct\")\n",
    "\n",
    "plt.hist(np.e**np.array(sft_log_liks)[np.where(sft_generation_categories[:, 2]==1)[0]], density=True, alpha=0.5, label=\"commit wrong\")\n",
    "\n",
    "plt.legend()\n",
    "\n",
    "best_threshold1 = .74\n",
    "best_threshold2 = .93\n",
    "\n",
    "plt.vlines(best_threshold1, 0, 1, color=\"red\")\n",
    "plt.vlines(best_threshold2, 0, 1, color=\"red\")"
   ]
  },
  {
   "cell_type": "code",
   "execution_count": 11,
   "metadata": {},
   "outputs": [
    {
     "name": "stdout",
     "output_type": "stream",
     "text": [
      "frac commit:  0.06937577255871447\n",
      "frac hedge:  0.15173053152039556\n",
      "frac dont know:  0.77889369592089\n",
      "frac commit correct:  0.16258351893095768\n",
      "frac hedge correct:  0.0835030549898167\n",
      "reward:  10.1331891223733\n"
     ]
    }
   ],
   "source": [
    "correct_sft_generated_answer_probs_means = np.e**np.array(sft_log_liks)[np.where(sft_generation_categories[:, 1]==1)[0]]\n",
    "wrong_sft_generated_answer_probs_means = np.e**np.array(sft_log_liks)[np.where(sft_generation_categories[:, 2]==1)[0]]\n",
    "\n",
    "best_threshold1 = .74\n",
    "best_threshold2 = .93\n",
    "\n",
    "commit_correct = (np.where(correct_sft_generated_answer_probs_means>best_threshold2)[0].shape[0])\n",
    "commit_wrong = (np.where(wrong_sft_generated_answer_probs_means>best_threshold2)[0].shape[0])\n",
    "\n",
    "hedge_correct = (np.where(np.logical_and(correct_sft_generated_answer_probs_means>best_threshold1, correct_sft_generated_answer_probs_means<best_threshold2))[0].shape[0])\n",
    "hedge_wrong = (np.where(np.logical_and(wrong_sft_generated_answer_probs_means>best_threshold1, wrong_sft_generated_answer_probs_means<best_threshold2))[0].shape[0])\n",
    "\n",
    "dont_know_correct = (np.where(correct_sft_generated_answer_probs_means<best_threshold1)[0].shape[0])\n",
    "dont_know_wrong = (np.where(wrong_sft_generated_answer_probs_means<best_threshold1)[0].shape[0])\n",
    "\n",
    "total = commit_correct+commit_wrong+hedge_correct+hedge_wrong+dont_know_correct+dont_know_wrong\n",
    "\n",
    "commmit_correct_percentage = commit_correct/(commit_correct+commit_wrong)\n",
    "hedge_correct_percentage = hedge_correct/(hedge_correct+hedge_wrong)\n",
    "dont_know_correct_percentage = dont_know_correct/(dont_know_correct+dont_know_wrong)\n",
    "\n",
    "reward = (30*commit_correct+25.5*hedge_correct+6.5*hedge_wrong+11*(dont_know_correct+dont_know_wrong))/total\n",
    "\n",
    "print(\"frac commit: \", (commit_correct+commit_wrong)/total)\n",
    "print(\"frac hedge: \", (hedge_correct+hedge_wrong)/total)\n",
    "print(\"frac dont know: \", (dont_know_correct+dont_know_wrong)/total)\n",
    "print(\"frac commit correct: \", commmit_correct_percentage)\n",
    "print(\"frac hedge correct: \", hedge_correct_percentage)\n",
    "print(\"reward: \", reward)\n"
   ]
  },
  {
   "cell_type": "code",
   "execution_count": 13,
   "metadata": {},
   "outputs": [],
   "source": [
    "correct_frac = np.where(sft_generation_categories[:, 1]==1)[0].shape[0]/len(sft_generation_categories)"
   ]
  },
  {
   "cell_type": "code",
   "execution_count": 14,
   "metadata": {},
   "outputs": [
    {
     "name": "stdout",
     "output_type": "stream",
     "text": [
      "all commit reward:  1.351189585515487\n",
      "all hedge reward:  7.355753404159809\n",
      "all idk reward:  11\n"
     ]
    }
   ],
   "source": [
    "print(\"all commit reward: \", 30*correct_frac)\n",
    "print(\"all hedge reward: \", 25.5*correct_frac+6.5*(1-correct_frac))\n",
    "print(\"all idk reward: \", 11)"
   ]
  },
  {
   "cell_type": "code",
   "execution_count": 15,
   "metadata": {},
   "outputs": [],
   "source": [
    "dataset_orig = load_dataset('lama')\n",
    "ood_idxs = np.load(\"lama_ood_idxs2.npy\")\n",
    "train_idxs = np.load(\"lama_train_idxs2.npy\")\n",
    "test_idxs = np.load(\"lama_test_idxs2.npy\")\n",
    "\n",
    "dataset = dataset_orig[\"train\"].select(train_idxs)\n",
    "test_dataset = dataset_orig[\"train\"].select(test_idxs)\n",
    "ood_dataset = dataset_orig[\"train\"].select(ood_idxs)"
   ]
  },
  {
   "cell_type": "code",
   "execution_count": 20,
   "metadata": {},
   "outputs": [
    {
     "data": {
      "text/plain": [
       "set()"
      ]
     },
     "execution_count": 20,
     "metadata": {},
     "output_type": "execute_result"
    }
   ],
   "source": [
    "set(dataset[\"template\"]).intersection(set(ood_dataset[\"template\"]))"
   ]
  },
  {
   "cell_type": "code",
   "execution_count": 16,
   "metadata": {},
   "outputs": [],
   "source": [
    "def get_stats(generation_categories, idxs):\n",
    "\n",
    "    num_commit_correct = len(np.where(generation_categories[idxs, 1]==1)[0])\n",
    "    num_commit_wrong = len(np.where(generation_categories[idxs, 2]==1)[0])\n",
    "    num_dont_know = len(np.where(generation_categories[idxs, 3]==1)[0])\n",
    "    num_wrong = len(np.where(generation_categories[idxs, 4]==1)[0])\n",
    "    num_hedge_correct = len(np.where(generation_categories[idxs, 5]==1)[0])\n",
    "    num_hedge_wrong = len(np.where(generation_categories[idxs, 6]==1)[0])\n",
    "    num_total = len(idxs)\n",
    "    reward = (14*num_commit_correct+10*(num_dont_know))/num_total\n",
    "    print(\"frac commit: \", (num_commit_correct+num_commit_wrong)/num_total)\n",
    "    a = (num_commit_correct+num_commit_wrong)/num_total\n",
    "    print(\"frac dont know: \", num_dont_know/num_total)\n",
    "    c = num_dont_know/num_total\n",
    "    print(\"frac commit correct: \", num_commit_correct/(num_commit_correct+num_commit_wrong))\n",
    "    d = num_commit_correct/(num_commit_correct+num_commit_wrong)\n",
    "    print(\"reward: \", reward)\n",
    "    return a, c, d,reward"
   ]
  },
  {
   "cell_type": "code",
   "execution_count": 17,
   "metadata": {},
   "outputs": [],
   "source": [
    "ppo_model_path =  \"ckpts/ppo_lama_llama7B_3_commit14_lr5e-5/checkpoint_30000/hf_model\"\n",
    "ppo_generation_categories = np.load(ppo_model_path+\"/generation_categories_trex_ood_idxs_128+.npy\")"
   ]
  },
  {
   "cell_type": "code",
   "execution_count": 19,
   "metadata": {},
   "outputs": [
    {
     "name": "stdout",
     "output_type": "stream",
     "text": [
      "frac commit:  0.7222804129881789\n",
      "frac dont know:  0.2759239862337274\n",
      "frac commit correct:  0.29687176299979284\n",
      "reward:  5.761185096513541\n"
     ]
    },
    {
     "data": {
      "text/plain": [
       "(0.7222804129881789,\n",
       " 0.2759239862337274,\n",
       " 0.29687176299979284,\n",
       " 5.761185096513541)"
      ]
     },
     "execution_count": 19,
     "metadata": {},
     "output_type": "execute_result"
    }
   ],
   "source": [
    "get_stats(ppo_generation_categories, [_ for _ in range(len(ppo_generation_categories))])"
   ]
  },
  {
   "cell_type": "code",
   "execution_count": 20,
   "metadata": {},
   "outputs": [
    {
     "name": "stdout",
     "output_type": "stream",
     "text": [
      "frac commit:  0.999700733203651\n",
      "frac dont know:  0.0\n",
      "frac commit correct:  0.14563688070648106\n",
      "reward:  2.038306149932665\n"
     ]
    },
    {
     "data": {
      "text/plain": [
       "(0.999700733203651, 0.0, 0.14563688070648106, 2.038306149932665)"
      ]
     },
     "execution_count": 20,
     "metadata": {},
     "output_type": "execute_result"
    }
   ],
   "source": [
    "\n",
    "ppo_model_path =  \"ckpts/sft_lama_llama7B_2_commit_lr1e-5/checkpoint_3000/hf_model\"\n",
    "ppo_generation_categories = np.load(ppo_model_path+\"/generation_categories_trex_ood_idxs_128+.npy\")\n",
    "get_stats(ppo_generation_categories, [_ for _ in range(len(ppo_generation_categories))])"
   ]
  },
  {
   "cell_type": "code",
   "execution_count": 21,
   "metadata": {},
   "outputs": [
    {
     "name": "stdout",
     "output_type": "stream",
     "text": [
      "frac commit:  0.9990173599737963\n",
      "frac dont know:  0.0\n",
      "frac commit correct:  0.739344262295082\n",
      "reward:  10.340648542417295\n"
     ]
    },
    {
     "data": {
      "text/plain": [
       "(0.9990173599737963, 0.0, 0.739344262295082, 10.340648542417295)"
      ]
     },
     "execution_count": 21,
     "metadata": {},
     "output_type": "execute_result"
    }
   ],
   "source": [
    "ppo_model_path =  \"ckpts/sft_lama_llama7B_2_commit_lr1e-5/checkpoint_3000/hf_model\"\n",
    "ppo_generation_categories = np.load(ppo_model_path+\"/generation_categories.npy\")\n",
    "get_stats(ppo_generation_categories, [_ for _ in range(len(ppo_generation_categories))])"
   ]
  },
  {
   "cell_type": "code",
   "execution_count": 23,
   "metadata": {},
   "outputs": [
    {
     "name": "stdout",
     "output_type": "stream",
     "text": [
      "frac commit:  0.8643956763838847\n",
      "frac dont know:  0.1349492302653128\n",
      "frac commit correct:  0.8529746115953013\n",
      "reward:  11.671798231247953\n"
     ]
    },
    {
     "data": {
      "text/plain": [
       "(0.8643956763838847,\n",
       " 0.1349492302653128,\n",
       " 0.8529746115953013,\n",
       " 11.671798231247953)"
      ]
     },
     "execution_count": 23,
     "metadata": {},
     "output_type": "execute_result"
    }
   ],
   "source": [
    "ppo_model_path =  \"ckpts/ppo_lama_llama7B_3_commit14_lr5e-5/checkpoint_30000/hf_model\"\n",
    "ppo_generation_categories = np.load(ppo_model_path+\"/generation_categories.npy\")\n",
    "get_stats(ppo_generation_categories, [_ for _ in range(len(ppo_generation_categories))])"
   ]
  },
  {
   "cell_type": "code",
   "execution_count": null,
   "metadata": {},
   "outputs": [],
   "source": []
  }
 ],
 "metadata": {
  "kernelspec": {
   "display_name": "Python 3.9.18 ('trlx')",
   "language": "python",
   "name": "python3"
  },
  "language_info": {
   "codemirror_mode": {
    "name": "ipython",
    "version": 3
   },
   "file_extension": ".py",
   "mimetype": "text/x-python",
   "name": "python",
   "nbconvert_exporter": "python",
   "pygments_lexer": "ipython3",
   "version": "3.9.18"
  },
  "orig_nbformat": 4,
  "vscode": {
   "interpreter": {
    "hash": "72a3fd4a13b86e2ebaa0e8e208d83864f5fab883245b2c176f0efba32410842e"
   }
  }
 },
 "nbformat": 4,
 "nbformat_minor": 2
}
