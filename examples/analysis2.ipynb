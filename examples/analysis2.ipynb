{
 "cells": [
  {
   "cell_type": "code",
   "execution_count": 1,
   "metadata": {},
   "outputs": [],
   "source": [
    "import numpy as np\n",
    "import matplotlib.pyplot as plt\n",
    "from sklearn.linear_model import LogisticRegression\n"
   ]
  },
  {
   "cell_type": "code",
   "execution_count": 4,
   "metadata": {},
   "outputs": [],
   "source": [
    "sft_model_path =  \"ckpts/sft_lama_GPT2_commit/checkpoint_10000/hf_model\"\n",
    "sft2_model_path =  \"ckpts/sft2_lama_GPT2/checkpoint_10000/hf_model\"\n",
    "ppo_model_path = \"ckpts/ppo_lama_GPT2_3_commit30_hedge25.5_6.5_idk11_cr0.0005/checkpoint_80000/hf_model\""
   ]
  },
  {
   "cell_type": "code",
   "execution_count": 5,
   "metadata": {},
   "outputs": [],
   "source": [
    "ppo_generation_categories = np.load(ppo_model_path+\"/generation_categories_trex_ood_idxs_128+.npy\")\n",
    "sft_generation_categories = np.load(sft_model_path+\"/generation_categories_trex_ood_idxs_128+.npy\")\n",
    "sft2_generation_categories = np.load(sft2_model_path+\"/generation_categories_trex_ood_idxs_128+.npy\")\n"
   ]
  },
  {
   "cell_type": "code",
   "execution_count": 6,
   "metadata": {},
   "outputs": [],
   "source": [
    "num_commit_correct_ppo = len(np.where(ppo_generation_categories[:, 1]==1)[0])\n",
    "num_commit_wrong_ppo = len(np.where(ppo_generation_categories[:, 2]==1)[0])\n",
    "num_dont_know_ppo = len(np.where(ppo_generation_categories[:, 3]==1)[0])\n",
    "num_wrong_ppo = len(np.where(ppo_generation_categories[:, 4]==1)[0])\n",
    "num_hedge_correct_ppo = len(np.where(ppo_generation_categories[:, 5]==1)[0])\n",
    "num_hedge_wrong_ppo = len(np.where(ppo_generation_categories[:, 6]==1)[0])\n",
    "\n",
    "num_commit_correct_sft = len(np.where(sft_generation_categories[:, 1]==1)[0])\n",
    "num_commit_wrong_sft = len(np.where(sft_generation_categories[:, 2]==1)[0])\n",
    "num_dont_know_sft = len(np.where(sft_generation_categories[:, 3]==1)[0])\n",
    "num_wrong_sft = len(np.where(sft_generation_categories[:, 4]==1)[0])\n",
    "num_hedge_correct_sft = len(np.where(sft_generation_categories[:, 5]==1)[0])\n",
    "num_hedge_wrong_sft = len(np.where(sft_generation_categories[:, 6]==1)[0])\n",
    "\n",
    "\n",
    "num_commit_correct_sft2 = len(np.where(sft2_generation_categories[:, 1]==1)[0])\n",
    "num_commit_wrong_sft2 = len(np.where(sft2_generation_categories[:, 2]==1)[0])\n",
    "num_dont_know_sft2 = len(np.where(sft2_generation_categories[:, 3]==1)[0])\n",
    "num_wrong_sft2 = len(np.where(sft2_generation_categories[:, 4]==1)[0])\n",
    "num_hedge_correct_sft2 = len(np.where(sft2_generation_categories[:, 5]==1)[0])\n",
    "num_hedge_wrong_sft2 = len(np.where(sft2_generation_categories[:, 6]==1)[0])\n"
   ]
  },
  {
   "cell_type": "code",
   "execution_count": 29,
   "metadata": {},
   "outputs": [
    {
     "data": {
      "text/plain": [
       "0.06043956043956044"
      ]
     },
     "execution_count": 29,
     "metadata": {},
     "output_type": "execute_result"
    }
   ],
   "source": [
    "num_commit_correct_ppo/(num_commit_correct_ppo+num_commit_wrong_ppo)"
   ]
  },
  {
   "cell_type": "code",
   "execution_count": 30,
   "metadata": {},
   "outputs": [
    {
     "data": {
      "text/plain": [
       "0.03597848016139879"
      ]
     },
     "execution_count": 30,
     "metadata": {},
     "output_type": "execute_result"
    }
   ],
   "source": [
    "num_hedge_correct_ppo/(num_hedge_correct_ppo+num_hedge_wrong_ppo)"
   ]
  },
  {
   "cell_type": "code",
   "execution_count": 35,
   "metadata": {},
   "outputs": [
    {
     "data": {
      "text/plain": [
       "0.05071315372424723"
      ]
     },
     "execution_count": 35,
     "metadata": {},
     "output_type": "execute_result"
    }
   ],
   "source": [
    "(sft_generation_categories[np.where(ppo_generation_categories[:, 3]==1)[0], 1]==1).sum()/num_dont_know_ppo"
   ]
  },
  {
   "cell_type": "code",
   "execution_count": 31,
   "metadata": {},
   "outputs": [
    {
     "data": {
      "text/plain": [
       "0.04650803461063041"
      ]
     },
     "execution_count": 31,
     "metadata": {},
     "output_type": "execute_result"
    }
   ],
   "source": [
    "num_commit_correct_sft/(num_commit_correct_sft+num_commit_wrong_sft)"
   ]
  },
  {
   "cell_type": "code",
   "execution_count": 32,
   "metadata": {},
   "outputs": [
    {
     "data": {
      "text/plain": [
       "0.03950987746936734"
      ]
     },
     "execution_count": 32,
     "metadata": {},
     "output_type": "execute_result"
    }
   ],
   "source": [
    "num_commit_correct_sft2/(num_commit_correct_sft2+num_commit_wrong_sft2)"
   ]
  },
  {
   "cell_type": "code",
   "execution_count": 34,
   "metadata": {},
   "outputs": [
    {
     "data": {
      "text/plain": [
       "0.06355591311343524"
      ]
     },
     "execution_count": 34,
     "metadata": {},
     "output_type": "execute_result"
    }
   ],
   "source": [
    "num_hedge_correct_sft2/(num_hedge_correct_sft2+num_hedge_wrong_sft2)"
   ]
  },
  {
   "cell_type": "code",
   "execution_count": 18,
   "metadata": {},
   "outputs": [],
   "source": [
    "log_liks = np.load(sft_model_path+\"/generated_answer_log_probs_mean_trex_ood_idxs_128+.npy\")"
   ]
  },
  {
   "cell_type": "code",
   "execution_count": 24,
   "metadata": {},
   "outputs": [
    {
     "data": {
      "text/plain": [
       "<matplotlib.collections.LineCollection at 0x7f606a48fbe0>"
      ]
     },
     "execution_count": 24,
     "metadata": {},
     "output_type": "execute_result"
    },
    {
     "data": {
      "image/png": "[encoded data removed]",
      "text/plain": [
       "<Figure size 640x480 with 1 Axes>"
      ]
     },
     "metadata": {},
     "output_type": "display_data"
    }
   ],
   "source": [
    "plt.hist(np.e**np.array(log_liks)[np.where(sft_generation_categories[:, 1]==1)[0]], density=True, alpha=0.5, label=\"commit correct\")\n",
    "\n",
    "plt.hist(np.e**np.array(log_liks)[np.where(sft_generation_categories[:, 2]==1)[0]], density=True, alpha=0.5, label=\"commit wrong\")\n",
    "\n",
    "plt.legend()\n",
    "\n",
    "best_threshold1 = .74\n",
    "best_threshold2 = .93\n",
    "\n",
    "plt.vlines(best_threshold1, 0, 1, color=\"red\")\n",
    "plt.vlines(best_threshold2, 0, 1, color=\"red\")\n"
   ]
  },
  {
   "cell_type": "code",
   "execution_count": 27,
   "metadata": {},
   "outputs": [
    {
     "data": {
      "text/plain": [
       "0.7852760736196319"
      ]
     },
     "execution_count": 27,
     "metadata": {},
     "output_type": "execute_result"
    }
   ],
   "source": [
    "len(np.where(np.e**np.array(log_liks) < best_threshold1)[0])/len(log_liks)"
   ]
  },
  {
   "cell_type": "code",
   "execution_count": 28,
   "metadata": {},
   "outputs": [
    {
     "data": {
      "text/plain": [
       "0.06718539578033818"
      ]
     },
     "execution_count": 28,
     "metadata": {},
     "output_type": "execute_result"
    }
   ],
   "source": [
    "len(np.where(np.e**np.array(log_liks) > best_threshold2)[0])/len(log_liks)"
   ]
  },
  {
   "cell_type": "code",
   "execution_count": 16,
   "metadata": {},
   "outputs": [
    {
     "data": {
      "text/plain": [
       "array([ 104,  110,  120,  159,  175,  211,  231,  233,  333,  371,  372,\n",
       "        435,  448,  461,  477,  493,  494,  508,  565,  601,  644,  653,\n",
       "        678,  681,  684,  688,  820,  831,  864,  912,  941,  946,  987,\n",
       "        997, 1003, 1006, 1022, 1025, 1027, 1030, 1044, 1075, 1077, 1080,\n",
       "       1084, 1086, 1096, 1110, 1154, 1163, 1197, 1200, 1225, 1239, 1290,\n",
       "       1297, 1298, 1299, 1340, 1373, 1400, 1417, 1420, 1428, 1445, 1473,\n",
       "       1479, 1523, 1565, 1581, 1589, 1600, 1645, 1737, 1757, 1768, 1776,\n",
       "       1809, 1813, 1852, 1863, 1868, 1870, 1890, 1955, 1979, 1981, 1995,\n",
       "       1999, 2020, 2026, 2027, 2034, 2057, 2081, 2089, 2125, 2126, 2128,\n",
       "       2173, 2197, 2224, 2268, 2302, 2303, 2320, 2336, 2356, 2380, 2395,\n",
       "       2396, 2463, 2515, 2540, 2549, 2552, 2566, 2588, 2640, 2641, 2643,\n",
       "       2658, 2663, 2703, 2765, 2769, 2796, 2803, 2810, 2823, 2850, 2858,\n",
       "       2861, 2905, 2916, 2978, 3055, 3056, 3137, 3142, 3153, 3171, 3173,\n",
       "       3184, 3186, 3192, 3194, 3204, 3206, 3215, 3230, 3287, 3294, 3332,\n",
       "       3337, 3356, 3371, 3386, 3397, 3398, 3407, 3419, 3579, 3592, 3600,\n",
       "       3605, 3619, 3656, 3664, 3715, 3736, 3737, 3746, 3764, 3791, 3819,\n",
       "       3841, 3845, 3849, 3850, 3867, 3878, 3909, 4006, 4065, 4100, 4186,\n",
       "       4194, 4202, 4262, 4277, 4292, 4318, 4323, 4348, 4370, 4438, 4460,\n",
       "       4465, 4469, 4470, 4481, 4484, 4545, 4599, 4603, 4615, 4630, 4681,\n",
       "       4682, 4684, 4712, 4779, 4810, 4821, 4861, 4876, 4877, 4881, 4902,\n",
       "       4934, 5008, 5031, 5046, 5055, 5057, 5060, 5118, 5120, 5126, 5142,\n",
       "       5156, 5180, 5194, 5216, 5310, 5346, 5355, 5368, 5397, 5399, 5404,\n",
       "       5428, 5433, 5483, 5552, 5562, 5658, 5683, 5746, 5748, 5772, 5775,\n",
       "       5801, 5872, 5895, 5913, 5914, 5925, 5949, 5956, 5967, 5970, 5979,\n",
       "       5984, 5999, 6028, 6032, 6068, 6072, 6086, 6101, 6150, 6156, 6166,\n",
       "       6167, 6206, 6227, 6229, 6241, 6268, 6272, 6274, 6297, 6328, 6366,\n",
       "       6374, 6401, 6416, 6454, 6459, 6516, 6518, 6519, 6540, 6542, 6563,\n",
       "       6605, 6646, 6650, 6652])"
      ]
     },
     "execution_count": 16,
     "metadata": {},
     "output_type": "execute_result"
    }
   ],
   "source": [
    "np.where(sft_generation_categories[:, 1]==1)[0]"
   ]
  },
  {
   "cell_type": "code",
   "execution_count": 17,
   "metadata": {},
   "outputs": [
    {
     "data": {
      "text/plain": [
       "(6683,)"
      ]
     },
     "execution_count": 17,
     "metadata": {},
     "output_type": "execute_result"
    }
   ],
   "source": [
    "log_liks"
   ]
  },
  {
   "cell_type": "code",
   "execution_count": 28,
   "metadata": {},
   "outputs": [
    {
     "name": "stdout",
     "output_type": "stream",
     "text": [
      "num_commit_correct_sft 0.04503965285051623\n",
      "num_commit_wrong_sft 0.9233877001346701\n",
      "num_dont_know_sft 0.0\n",
      "num_wrong_sft 0.03157264701481371\n",
      "num_hedge_correct_sft 0.0\n",
      "num_hedge_wrong_sft 0.0\n"
     ]
    }
   ],
   "source": [
    "print(\"num_commit_correct_sft\", num_commit_correct_sft/len(sft_generation_categories))\n",
    "print(\"num_commit_wrong_sft\", num_commit_wrong_sft/len(sft_generation_categories))\n",
    "print(\"num_dont_know_sft\", num_dont_know_sft/len(sft_generation_categories))\n",
    "print(\"num_wrong_sft\", num_wrong_sft/len(sft_generation_categories))\n",
    "print(\"num_hedge_correct_sft\", num_hedge_correct_sft/len(sft_generation_categories))\n",
    "print(\"num_hedge_wrong_sft\", num_hedge_wrong_sft/len(sft_generation_categories))\n"
   ]
  },
  {
   "cell_type": "code",
   "execution_count": 32,
   "metadata": {},
   "outputs": [
    {
     "name": "stdout",
     "output_type": "stream",
     "text": [
      "num_commit_correct_sft2 0.02364207691156666\n",
      "num_commit_wrong_sft2 0.574741882388149\n",
      "num_dont_know_sft2 0.0014963339817447255\n",
      "num_wrong_sft2 0.02813107885680084\n",
      "num_hedge_correct_sft2 0.02364207691156666\n",
      "num_hedge_wrong_sft2 0.3483465509501721\n"
     ]
    }
   ],
   "source": [
    "print(\"num_commit_correct_sft2\", num_commit_correct_sft2/len(sft2_generation_categories))\n",
    "print(\"num_commit_wrong_sft2\", num_commit_wrong_sft2/len(sft2_generation_categories))\n",
    "print(\"num_dont_know_sft2\", num_dont_know_sft2/len(sft2_generation_categories))\n",
    "print(\"num_wrong_sft2\", num_wrong_sft2/len(sft2_generation_categories))\n",
    "print(\"num_hedge_correct_sft2\", num_hedge_correct_sft2/len(sft2_generation_categories))\n",
    "print(\"num_hedge_wrong_sft2\", num_hedge_wrong_sft2/len(sft2_generation_categories))\n"
   ]
  },
  {
   "cell_type": "code",
   "execution_count": 33,
   "metadata": {},
   "outputs": [
    {
     "name": "stdout",
     "output_type": "stream",
     "text": [
      "[0.02139758 0.33263504 0.18883735 0.01212031 0.01601077 0.42899895]\n"
     ]
    }
   ],
   "source": [
    "print(np.array([num_commit_correct_ppo, num_commit_wrong_ppo, num_dont_know_ppo, num_wrong_ppo, num_hedge_correct_ppo, num_hedge_wrong_ppo])/len(ppo_generation_categories))"
   ]
  },
  {
   "cell_type": "code",
   "execution_count": 4,
   "metadata": {},
   "outputs": [],
   "source": [
    "sft_generation_categories = np.load(sft_model_path+\"/generation_categories.npy\")\n",
    "ppo_generation_categories = np.load(ppo_model_path+\"/generation_categories.npy\")\n",
    "ood_idxs = np.where(sft_generation_categories[:, 0]==3)[0]\n",
    "test_idxs = np.where(sft_generation_categories[:, 0]==2)[0]"
   ]
  },
  {
   "cell_type": "code",
   "execution_count": 6,
   "metadata": {},
   "outputs": [
    {
     "data": {
      "text/plain": [
       "6266"
      ]
     },
     "execution_count": 6,
     "metadata": {},
     "output_type": "execute_result"
    }
   ],
   "source": [
    "len(sft_generation_categories)"
   ]
  },
  {
   "cell_type": "code",
   "execution_count": 10,
   "metadata": {},
   "outputs": [],
   "source": [
    "# metrics = np.stack([np.array(kwargs[\"split\"]), commit_correct, commit_wrong, dont_know, wrong, hedge_correct, hedge_wrong], axis=1)\n",
    "\n",
    "num_commit_correct_ppo = len(np.where(ppo_generation_categories[ood_idxs, 1]==1)[0])\n",
    "num_commit_wrong_ppo = len(np.where(ppo_generation_categories[ood_idxs, 2]==1)[0])\n",
    "num_dont_know_ppo = len(np.where(ppo_generation_categories[ood_idxs, 3]==1)[0])\n",
    "num_wrong_ppo = len(np.where(ppo_generation_categories[ood_idxs, 4]==1)[0])\n",
    "num_hedge_correct_ppo = len(np.where(ppo_generation_categories[ood_idxs, 5]==1)[0])\n",
    "num_hedge_wrong_ppo = len(np.where(ppo_generation_categories[ood_idxs, 6]==1)[0])\n",
    "\n",
    "num_commit_correct_sft = len(np.where(sft_generation_categories[ood_idxs, 1]==1)[0])\n",
    "num_commit_wrong_sft = len(np.where(sft_generation_categories[ood_idxs, 2]==1)[0])\n",
    "num_dont_know_sft = len(np.where(sft_generation_categories[ood_idxs, 3]==1)[0])\n",
    "num_wrong_sft = len(np.where(sft_generation_categories[ood_idxs, 4]==1)[0])\n",
    "num_hedge_correct_sft = len(np.where(sft_generation_categories[ood_idxs, 5]==1)[0])\n",
    "num_hedge_wrong_sft = len(np.where(sft_generation_categories[ood_idxs, 6]==1)[0])\n",
    "\n",
    "total = len(ood_idxs)"
   ]
  },
  {
   "cell_type": "code",
   "execution_count": 11,
   "metadata": {},
   "outputs": [
    {
     "data": {
      "text/plain": [
       "array([0.1768752 , 0.05076973, 0.09564363, 0.00262037, 0.22993777,\n",
       "       0.44415329])"
      ]
     },
     "execution_count": 11,
     "metadata": {},
     "output_type": "execute_result"
    }
   ],
   "source": [
    "np.array([num_commit_correct_ppo, num_commit_wrong_ppo, num_dont_know_ppo, num_wrong_ppo, num_hedge_correct_ppo, num_hedge_wrong_ppo])/total"
   ]
  },
  {
   "cell_type": "code",
   "execution_count": 24,
   "metadata": {},
   "outputs": [
    {
     "data": {
      "text/plain": [
       "0.09564362921716345"
      ]
     },
     "execution_count": 24,
     "metadata": {},
     "output_type": "execute_result"
    }
   ],
   "source": [
    "(num_dont_know_ppo)/total"
   ]
  },
  {
   "cell_type": "code",
   "execution_count": 18,
   "metadata": {},
   "outputs": [
    {
     "data": {
      "text/plain": [
       "0.7769784172661871"
      ]
     },
     "execution_count": 18,
     "metadata": {},
     "output_type": "execute_result"
    }
   ],
   "source": [
    "num_commit_correct_ppo/(num_commit_correct_ppo+num_commit_wrong_ppo)"
   ]
  },
  {
   "cell_type": "code",
   "execution_count": 19,
   "metadata": {},
   "outputs": [
    {
     "data": {
      "text/plain": [
       "0.34110787172011664"
      ]
     },
     "execution_count": 19,
     "metadata": {},
     "output_type": "execute_result"
    }
   ],
   "source": [
    "num_hedge_correct_ppo/(num_hedge_correct_ppo+num_hedge_wrong_ppo)"
   ]
  },
  {
   "cell_type": "code",
   "execution_count": 20,
   "metadata": {},
   "outputs": [
    {
     "data": {
      "text/plain": [
       "0.4068129708483459"
      ]
     },
     "execution_count": 20,
     "metadata": {},
     "output_type": "execute_result"
    }
   ],
   "source": [
    "(num_commit_correct_ppo+num_hedge_correct_ppo)/total"
   ]
  },
  {
   "cell_type": "code",
   "execution_count": 21,
   "metadata": {},
   "outputs": [
    {
     "data": {
      "text/plain": [
       "0.2602739726027397"
      ]
     },
     "execution_count": 21,
     "metadata": {},
     "output_type": "execute_result"
    }
   ],
   "source": [
    "ppo_idk_idxs  = np.where(ppo_generation_categories[ood_idxs, 3]==1)[0]\n",
    "np.sum(sft_generation_categories[ood_idxs][ppo_idk_idxs, 1])/len(sft_generation_categories[ood_idxs][ppo_idk_idxs, 1])"
   ]
  },
  {
   "cell_type": "code",
   "execution_count": 13,
   "metadata": {},
   "outputs": [
    {
     "data": {
      "text/plain": [
       "15.108745496233214"
      ]
     },
     "execution_count": 13,
     "metadata": {},
     "output_type": "execute_result"
    }
   ],
   "source": [
    "(30*num_commit_correct_ppo+25.5*num_hedge_correct_ppo+6.5*num_hedge_wrong_ppo+11*num_dont_know_ppo)/total"
   ]
  },
  {
   "cell_type": "code",
   "execution_count": 12,
   "metadata": {},
   "outputs": [
    {
     "data": {
      "text/plain": [
       "array([3.96331477e-01, 6.03340976e-01, 0.00000000e+00, 3.27546675e-04,\n",
       "       0.00000000e+00, 0.00000000e+00])"
      ]
     },
     "execution_count": 12,
     "metadata": {},
     "output_type": "execute_result"
    }
   ],
   "source": [
    "np.array([num_commit_correct_sft, num_commit_wrong_sft, num_dont_know_sft, num_wrong_sft, num_hedge_correct_sft, num_hedge_wrong_sft])/total"
   ]
  },
  {
   "cell_type": "code",
   "execution_count": 17,
   "metadata": {},
   "outputs": [
    {
     "data": {
      "text/plain": [
       "14.030298067474614"
      ]
     },
     "execution_count": 17,
     "metadata": {},
     "output_type": "execute_result"
    }
   ],
   "source": [
    "num_commit_correct_sft*25.5/total+(total-num_commit_correct_sft)*6.5/total"
   ]
  },
  {
   "cell_type": "code",
   "execution_count": 25,
   "metadata": {},
   "outputs": [
    {
     "data": {
      "text/plain": [
       "11.889944317065181"
      ]
     },
     "execution_count": 25,
     "metadata": {},
     "output_type": "execute_result"
    }
   ],
   "source": [
    "num_commit_correct_sft*30/total"
   ]
  },
  {
   "cell_type": "code",
   "execution_count": 6,
   "metadata": {},
   "outputs": [],
   "source": [
    "sft_generated_answer_log_probs_mean = np.load(sft_model_path+\"/generated_answer_log_probs_mean.npy\")\n"
   ]
  },
  {
   "cell_type": "code",
   "execution_count": 15,
   "metadata": {},
   "outputs": [],
   "source": [
    "correct_sft_generated_answer_probs_means = np.e**sft_generated_answer_log_probs_mean[test_idxs][np.where(sft_generation_categories[test_idxs, 1]==1)[0]]\n",
    "wrong_sft_generated_answer_probs_means = np.e**sft_generated_answer_log_probs_mean[test_idxs][np.where(sft_generation_categories[test_idxs, 1]==0)[0]]"
   ]
  },
  {
   "cell_type": "code",
   "execution_count": 25,
   "metadata": {},
   "outputs": [
    {
     "name": "stdout",
     "output_type": "stream",
     "text": [
      "0.65 0.89\n",
      "14.650482415188298\n",
      "0.65 0.9\n",
      "14.659041394335512\n",
      "0.65 0.91\n",
      "14.652505446623094\n",
      "0.65 0.92\n",
      "14.660753190164955\n",
      "0.65 0.93\n",
      "14.678182384064737\n",
      "0.65 0.94\n",
      "14.668689698101463\n",
      "0.65 0.95\n",
      "14.659041394335512\n",
      "0.65 0.96\n",
      "14.639744786803611\n",
      "0.65 0.97\n",
      "14.588235294117647\n",
      "0.65 0.98\n",
      "14.535792094615624\n",
      "0.673 0.89\n",
      "14.711173358232182\n",
      "0.673 0.9\n",
      "14.719732337379396\n",
      "0.673 0.91\n",
      "14.713196389666978\n",
      "0.673 0.92\n",
      "14.72144413320884\n",
      "0.673 0.93\n",
      "14.738873327108621\n",
      "0.673 0.94\n",
      "14.729380641145347\n",
      "0.673 0.95\n",
      "14.719732337379396\n",
      "0.673 0.96\n",
      "14.700435729847495\n",
      "0.673 0.97\n",
      "14.64892623716153\n",
      "0.673 0.98\n",
      "14.596483037659508\n",
      "0.6960000000000001 0.89\n",
      "14.792561469032057\n",
      "0.6960000000000001 0.9\n",
      "14.801120448179272\n",
      "0.6960000000000001 0.91\n",
      "14.794584500466854\n",
      "0.6960000000000001 0.92\n",
      "14.802832244008714\n",
      "0.6960000000000001 0.93\n",
      "14.820261437908497\n",
      "0.6960000000000001 0.94\n",
      "14.810768751945222\n",
      "0.6960000000000001 0.95\n",
      "14.801120448179272\n",
      "0.6960000000000001 0.96\n",
      "14.78182384064737\n",
      "0.6960000000000001 0.97\n",
      "14.730314347961407\n",
      "0.6960000000000001 0.98\n",
      "14.677871148459383\n",
      "0.7190000000000001 0.89\n",
      "14.828353563647681\n",
      "0.7190000000000001 0.9\n",
      "14.836912542794895\n",
      "0.7190000000000001 0.91\n",
      "14.830376595082477\n",
      "0.7190000000000001 0.92\n",
      "14.838624338624339\n",
      "0.7190000000000001 0.93\n",
      "14.85605353252412\n",
      "0.7190000000000001 0.94\n",
      "14.846560846560847\n",
      "0.7190000000000001 0.95\n",
      "14.836912542794895\n",
      "0.7190000000000001 0.96\n",
      "14.817615935262994\n",
      "0.7190000000000001 0.97\n",
      "14.766106442577032\n",
      "0.7190000000000001 0.98\n",
      "14.713663243075008\n",
      "0.742 0.89\n",
      "14.837690631808279\n",
      "0.742 0.9\n",
      "14.846249610955493\n",
      "0.742 0.91\n",
      "14.839713663243074\n",
      "0.742 0.92\n",
      "14.847961406784936\n",
      "0.742 0.93\n",
      "14.865390600684718\n",
      "0.742 0.94\n",
      "14.855897914721444\n",
      "0.742 0.95\n",
      "14.846249610955493\n",
      "0.742 0.96\n",
      "14.826953003423592\n",
      "0.742 0.97\n",
      "14.77544351073763\n",
      "0.742 0.98\n",
      "14.723000311235605\n",
      "0.765 0.89\n",
      "14.832399626517274\n",
      "0.765 0.9\n",
      "14.840958605664488\n",
      "0.765 0.91\n",
      "14.83442265795207\n",
      "0.765 0.92\n",
      "14.842670401493931\n",
      "0.765 0.93\n",
      "14.860099595393713\n",
      "0.765 0.94\n",
      "14.85060690943044\n",
      "0.765 0.95\n",
      "14.840958605664488\n",
      "0.765 0.96\n",
      "14.821661998132587\n",
      "0.765 0.97\n",
      "14.770152505446623\n",
      "0.765 0.98\n",
      "14.7177093059446\n",
      "0.788 0.89\n",
      "14.791316526610645\n",
      "0.788 0.9\n",
      "14.799875505757859\n",
      "0.788 0.91\n",
      "14.79333955804544\n",
      "0.788 0.92\n",
      "14.801587301587302\n",
      "0.788 0.93\n",
      "14.819016495487084\n",
      "0.788 0.94\n",
      "14.80952380952381\n",
      "0.788 0.95\n",
      "14.799875505757859\n",
      "0.788 0.96\n",
      "14.780578898225958\n",
      "0.788 0.97\n",
      "14.729069405539994\n",
      "0.788 0.98\n",
      "14.676626206037971\n",
      "0.811 0.89\n",
      "14.770930594460006\n",
      "0.811 0.9\n",
      "14.77948957360722\n",
      "0.811 0.91\n",
      "14.772953625894802\n",
      "0.811 0.92\n",
      "14.781201369436664\n",
      "0.811 0.93\n",
      "14.798630563336445\n",
      "0.811 0.94\n",
      "14.789137877373172\n",
      "0.811 0.95\n",
      "14.77948957360722\n",
      "0.811 0.96\n",
      "14.76019296607532\n",
      "0.811 0.97\n",
      "14.708683473389355\n",
      "0.811 0.98\n",
      "14.656240273887333\n",
      "0.8340000000000001 0.89\n",
      "14.721599751011516\n",
      "0.8340000000000001 0.9\n",
      "14.73015873015873\n",
      "0.8340000000000001 0.91\n",
      "14.723622782446311\n",
      "0.8340000000000001 0.92\n",
      "14.731870525988173\n",
      "0.8340000000000001 0.93\n",
      "14.749299719887954\n",
      "0.8340000000000001 0.94\n",
      "14.73980703392468\n",
      "0.8340000000000001 0.95\n",
      "14.73015873015873\n",
      "0.8340000000000001 0.96\n",
      "14.710862122626828\n",
      "0.8340000000000001 0.97\n",
      "14.659352629940866\n",
      "0.8340000000000001 0.98\n",
      "14.606909430438842\n",
      "0.857 0.89\n",
      "14.635543106131342\n",
      "0.857 0.9\n",
      "14.644102085278556\n",
      "0.857 0.91\n",
      "14.637566137566138\n",
      "0.857 0.92\n",
      "14.645813881108\n",
      "0.857 0.93\n",
      "14.663243075007781\n",
      "0.857 0.94\n",
      "14.653750389044507\n",
      "0.857 0.95\n",
      "14.644102085278556\n",
      "0.857 0.96\n",
      "14.624805477746655\n",
      "0.857 0.97\n",
      "14.57329598506069\n",
      "0.857 0.98\n",
      "14.520852785558668\n",
      "14.520852785558668\n"
     ]
    }
   ],
   "source": [
    "# threshold1s = np.array([(0.8-0.5)/10*_+0.5 for _ in range(10)])\n",
    "# threshold2s = np.array([(0.99-0.81)/10*_+0.81 for _ in range(10)])\n",
    "\n",
    "threshold1s = np.array([(0.88-0.65)/10*_+0.65 for _ in range(10)])\n",
    "threshold2s = np.array([(0.99-0.89)/10*_+0.89 for _ in range(10)])\n",
    "\n",
    "rewards_all = np.zeros((10, 10))\n",
    "\n",
    "for i in range(10):\n",
    "    for j in range(10):\n",
    "        threshold1 = threshold1s[i]\n",
    "        threshold2 = threshold2s[j]\n",
    "        print(threshold1, threshold2)\n",
    "        commit_correct = (np.where(correct_sft_generated_answer_probs_means>threshold2)[0].shape[0])\n",
    "        commit_wrong = (np.where(wrong_sft_generated_answer_probs_means>threshold2)[0].shape[0])\n",
    "\n",
    "        hedge_correct = (np.where(np.logical_and(correct_sft_generated_answer_probs_means>threshold1, correct_sft_generated_answer_probs_means<threshold2))[0].shape[0])\n",
    "        hedge_wrong = (np.where(np.logical_and(wrong_sft_generated_answer_probs_means>threshold1, wrong_sft_generated_answer_probs_means<threshold2))[0].shape[0])\n",
    "\n",
    "        dont_know_correct = (np.where(correct_sft_generated_answer_probs_means<threshold1)[0].shape[0])\n",
    "        dont_know_wrong = (np.where(wrong_sft_generated_answer_probs_means<threshold1)[0].shape[0])\n",
    "\n",
    "        total = commit_correct+commit_wrong+hedge_correct+hedge_wrong+dont_know_correct+dont_know_wrong\n",
    "\n",
    "        commmit_correct_percentage = commit_correct/(commit_correct+commit_wrong)\n",
    "        hedge_correct_percentage = hedge_correct/(hedge_correct+hedge_wrong)\n",
    "        dont_know_correct_percentage = dont_know_correct/(dont_know_correct+dont_know_wrong)\n",
    "\n",
    "        # print([commmit_correct_percentage, hedge_correct_percentage, dont_know_correct_percentage])\n",
    "\n",
    "        reward = (30*commit_correct+25.5*hedge_correct+6.5*hedge_wrong+11*(dont_know_correct+dont_know_wrong))/total\n",
    "        print(reward)\n",
    "        rewards_all[i, j] = reward\n",
    "\n",
    "print(reward)"
   ]
  },
  {
   "cell_type": "code",
   "execution_count": 26,
   "metadata": {},
   "outputs": [
    {
     "data": {
      "text/plain": [
       "array([[14.65048242, 14.65904139, 14.65250545, 14.66075319, 14.67818238,\n",
       "        14.6686897 , 14.65904139, 14.63974479, 14.58823529, 14.53579209],\n",
       "       [14.71117336, 14.71973234, 14.71319639, 14.72144413, 14.73887333,\n",
       "        14.72938064, 14.71973234, 14.70043573, 14.64892624, 14.59648304],\n",
       "       [14.79256147, 14.80112045, 14.7945845 , 14.80283224, 14.82026144,\n",
       "        14.81076875, 14.80112045, 14.78182384, 14.73031435, 14.67787115],\n",
       "       [14.82835356, 14.83691254, 14.8303766 , 14.83862434, 14.85605353,\n",
       "        14.84656085, 14.83691254, 14.81761594, 14.76610644, 14.71366324],\n",
       "       [14.83769063, 14.84624961, 14.83971366, 14.84796141, 14.8653906 ,\n",
       "        14.85589791, 14.84624961, 14.826953  , 14.77544351, 14.72300031],\n",
       "       [14.83239963, 14.84095861, 14.83442266, 14.8426704 , 14.8600996 ,\n",
       "        14.85060691, 14.84095861, 14.821662  , 14.77015251, 14.71770931],\n",
       "       [14.79131653, 14.79987551, 14.79333956, 14.8015873 , 14.8190165 ,\n",
       "        14.80952381, 14.79987551, 14.7805789 , 14.72906941, 14.67662621],\n",
       "       [14.77093059, 14.77948957, 14.77295363, 14.78120137, 14.79863056,\n",
       "        14.78913788, 14.77948957, 14.76019297, 14.70868347, 14.65624027],\n",
       "       [14.72159975, 14.73015873, 14.72362278, 14.73187053, 14.74929972,\n",
       "        14.73980703, 14.73015873, 14.71086212, 14.65935263, 14.60690943],\n",
       "       [14.63554311, 14.64410209, 14.63756614, 14.64581388, 14.66324308,\n",
       "        14.65375039, 14.64410209, 14.62480548, 14.57329599, 14.52085279]])"
      ]
     },
     "execution_count": 26,
     "metadata": {},
     "output_type": "execute_result"
    }
   ],
   "source": [
    "rewards_all"
   ]
  },
  {
   "cell_type": "code",
   "execution_count": 37,
   "metadata": {},
   "outputs": [
    {
     "data": {
      "image/png": "[encoded data removed]",
      "text/plain": [
       "<Figure size 640x480 with 2 Axes>"
      ]
     },
     "metadata": {},
     "output_type": "display_data"
    }
   ],
   "source": [
    "plt.imshow(rewards_all)\n",
    "plt.xlabel(\"threshold2\")\n",
    "plt.ylabel(\"threshold1\")\n",
    "plt.xticks(range(10), threshold2s.round(2))\n",
    "plt.yticks(range(10), threshold1s.round(2))\n",
    "plt.colorbar()\n",
    "plt.title(\"reward (test set)\")\n",
    "plt.savefig(\"fig.png\")"
   ]
  },
  {
   "cell_type": "code",
   "execution_count": 33,
   "metadata": {},
   "outputs": [
    {
     "name": "stdout",
     "output_type": "stream",
     "text": [
      "15.425974451359318\n"
     ]
    }
   ],
   "source": [
    "correct_sft_generated_answer_probs_means = np.e**sft_generated_answer_log_probs_mean[ood_idxs][np.where(sft_generation_categories[ood_idxs, 1]==1)[0]]\n",
    "wrong_sft_generated_answer_probs_means = np.e**sft_generated_answer_log_probs_mean[ood_idxs][np.where(sft_generation_categories[ood_idxs, 1]==0)[0]]\n",
    "\n",
    "best_threshold1 = .74\n",
    "best_threshold2 = .93\n",
    "\n",
    "commit_correct = (np.where(correct_sft_generated_answer_probs_means>best_threshold2)[0].shape[0])\n",
    "commit_wrong = (np.where(wrong_sft_generated_answer_probs_means>best_threshold2)[0].shape[0])\n",
    "\n",
    "hedge_correct = (np.where(np.logical_and(correct_sft_generated_answer_probs_means>best_threshold1, correct_sft_generated_answer_probs_means<best_threshold2))[0].shape[0])\n",
    "hedge_wrong = (np.where(np.logical_and(wrong_sft_generated_answer_probs_means>best_threshold1, wrong_sft_generated_answer_probs_means<best_threshold2))[0].shape[0])\n",
    "\n",
    "dont_know_correct = (np.where(correct_sft_generated_answer_probs_means<best_threshold1)[0].shape[0])\n",
    "dont_know_wrong = (np.where(wrong_sft_generated_answer_probs_means<best_threshold1)[0].shape[0])\n",
    "\n",
    "total = commit_correct+commit_wrong+hedge_correct+hedge_wrong+dont_know_correct+dont_know_wrong\n",
    "\n",
    "commmit_correct_percentage = commit_correct/(commit_correct+commit_wrong)\n",
    "hedge_correct_percentage = hedge_correct/(hedge_correct+hedge_wrong)\n",
    "dont_know_correct_percentage = dont_know_correct/(dont_know_correct+dont_know_wrong)\n",
    "\n",
    "# print([commmit_correct_percentage, hedge_correct_percentage, dont_know_correct_percentage])\n",
    "\n",
    "reward = (30*commit_correct+25.5*hedge_correct+6.5*hedge_wrong+11*(dont_know_correct+dont_know_wrong))/total\n",
    "print(reward)"
   ]
  },
  {
   "cell_type": "code",
   "execution_count": 34,
   "metadata": {},
   "outputs": [
    {
     "data": {
      "text/plain": [
       "850"
      ]
     },
     "execution_count": 34,
     "metadata": {},
     "output_type": "execute_result"
    }
   ],
   "source": [
    "(commit_correct+commit_wrong)"
   ]
  },
  {
   "cell_type": "code",
   "execution_count": 36,
   "metadata": {},
   "outputs": [
    {
     "data": {
      "text/plain": [
       "Text(0.5, 1.0, 'OOD')"
      ]
     },
     "execution_count": 36,
     "metadata": {},
     "output_type": "execute_result"
    },
    {
     "data": {
      "image/png": "[encoded data removed]",
      "text/plain": [
       "<Figure size 640x480 with 1 Axes>"
      ]
     },
     "metadata": {},
     "output_type": "display_data"
    }
   ],
   "source": [
    "plt.hist(np.e**sft_generated_answer_log_probs_mean[ood_idxs][np.where(sft_generation_categories[ood_idxs, 1]==1)[0]], alpha=0.5, label=\"correct\", density=True, bins=[_*0.1 for _ in range(11)])\n",
    "plt.hist(np.e**sft_generated_answer_log_probs_mean[ood_idxs][np.where(sft_generation_categories[ood_idxs, 1]==0)[0]], alpha=0.5, label=\"wrong\", density=True, bins=[_*0.1 for _ in range(11)])\n",
    "plt.legend()\n",
    "plt.vlines(best_threshold1, 0, 3)\n",
    "plt.vlines(best_threshold2, 0, 3)\n",
    "plt.xlabel(\"sft_generated_answer_log_probs_mean\")\n",
    "plt.ylabel(\"density\")\n",
    "plt.title(\"OOD\")\n",
    "\n",
    "# plt.savefig(\"fig.png\")"
   ]
  },
  {
   "cell_type": "code",
   "execution_count": 5,
   "metadata": {},
   "outputs": [
    {
     "data": {
      "text/plain": [
       "<matplotlib.collections.LineCollection at 0x7fb6eaf8c3a0>"
      ]
     },
     "execution_count": 5,
     "metadata": {},
     "output_type": "execute_result"
    },
    {
     "data": {
      "image/png": "[encoded data removed]",
      "text/plain": [
       "<Figure size 640x480 with 1 Axes>"
      ]
     },
     "metadata": {},
     "output_type": "display_data"
    }
   ],
   "source": [
    "sft_generated_answer_log_probs_mean_train = np.load(sft_model_path+\"/generated_answer_log_probs_mean_train.npy\")\n",
    "sft_generation_categories_train = np.load(sft_model_path+\"/generation_categories_train.npy\")\n",
    "best_threshold1 = .74\n",
    "best_threshold2 = .93\n",
    "correct_sft_generated_answer_probs_means_train = np.e**sft_generated_answer_log_probs_mean_train[np.where(sft_generation_categories_train[:, 1]==1)[0]]\n",
    "wrong_sft_generated_answer_probs_means_train = np.e**sft_generated_answer_log_probs_mean_train[np.where(sft_generation_categories_train[:, 1]==0)[0]]\n",
    "\n",
    "plt.hist(correct_sft_generated_answer_probs_means_train, alpha=0.5, label=\"correct\", density=True, bins=[_*0.1 for _ in range(11)])\n",
    "plt.hist(wrong_sft_generated_answer_probs_means_train, alpha=0.5, label=\"wrong\", density=True, bins=[_*0.1 for _ in range(11)])\n",
    "plt.legend()\n",
    "plt.vlines(best_threshold1, 0, 3)\n",
    "plt.vlines(best_threshold2, 0, 3)\n"
   ]
  },
  {
   "cell_type": "code",
   "execution_count": 6,
   "metadata": {},
   "outputs": [
    {
     "name": "stdout",
     "output_type": "stream",
     "text": [
      "15.19374932488388\n"
     ]
    }
   ],
   "source": [
    "\n",
    "commit_correct = (np.where(correct_sft_generated_answer_probs_means_train>best_threshold2)[0].shape[0])\n",
    "commit_wrong = (np.where(wrong_sft_generated_answer_probs_means_train>best_threshold2)[0].shape[0])\n",
    "\n",
    "hedge_correct = (np.where(np.logical_and(correct_sft_generated_answer_probs_means_train>best_threshold1, correct_sft_generated_answer_probs_means_train<best_threshold2))[0].shape[0])\n",
    "hedge_wrong = (np.where(np.logical_and(wrong_sft_generated_answer_probs_means_train>best_threshold1, wrong_sft_generated_answer_probs_means_train<best_threshold2))[0].shape[0])\n",
    "\n",
    "dont_know_correct = (np.where(correct_sft_generated_answer_probs_means_train<best_threshold1)[0].shape[0])\n",
    "dont_know_wrong = (np.where(wrong_sft_generated_answer_probs_means_train<best_threshold1)[0].shape[0])\n",
    "\n",
    "total = commit_correct+commit_wrong+hedge_correct+hedge_wrong+dont_know_correct+dont_know_wrong\n",
    "\n",
    "commmit_correct_percentage = commit_correct/(commit_correct+commit_wrong)\n",
    "hedge_correct_percentage = hedge_correct/(hedge_correct+hedge_wrong)\n",
    "dont_know_correct_percentage = dont_know_correct/(dont_know_correct+dont_know_wrong)\n",
    "\n",
    "# print([commmit_correct_percentage, hedge_correct_percentage, dont_know_correct_percentage])\n",
    "\n",
    "reward = (30*commit_correct+25.5*hedge_correct+6.5*hedge_wrong+11*(dont_know_correct+dont_know_wrong))/total\n",
    "print(reward)"
   ]
  },
  {
   "cell_type": "code",
   "execution_count": 7,
   "metadata": {},
   "outputs": [
    {
     "data": {
      "text/plain": [
       "0.8778204144282425"
      ]
     },
     "execution_count": 7,
     "metadata": {},
     "output_type": "execute_result"
    }
   ],
   "source": [
    "commmit_correct_percentage"
   ]
  },
  {
   "cell_type": "code",
   "execution_count": 8,
   "metadata": {},
   "outputs": [
    {
     "data": {
      "text/plain": [
       "0.36432748538011694"
      ]
     },
     "execution_count": 8,
     "metadata": {},
     "output_type": "execute_result"
    }
   ],
   "source": [
    "hedge_correct_percentage"
   ]
  },
  {
   "cell_type": "code",
   "execution_count": 9,
   "metadata": {},
   "outputs": [
    {
     "data": {
      "text/plain": [
       "0.05361353863226522"
      ]
     },
     "execution_count": 9,
     "metadata": {},
     "output_type": "execute_result"
    }
   ],
   "source": [
    "dont_know_correct_percentage"
   ]
  },
  {
   "cell_type": "code",
   "execution_count": 10,
   "metadata": {},
   "outputs": [
    {
     "data": {
      "text/plain": [
       "0.6148259078996631"
      ]
     },
     "execution_count": 10,
     "metadata": {},
     "output_type": "execute_result"
    }
   ],
   "source": [
    "(commit_correct+hedge_correct)/(commit_correct+commit_wrong+hedge_correct+hedge_wrong)"
   ]
  },
  {
   "cell_type": "code",
   "execution_count": null,
   "metadata": {},
   "outputs": [],
   "source": []
  }
 ],
 "metadata": {
  "kernelspec": {
   "display_name": "trlx",
   "language": "python",
   "name": "python3"
  },
  "language_info": {
   "codemirror_mode": {
    "name": "ipython",
    "version": 3
   },
   "file_extension": ".py",
   "mimetype": "text/x-python",
   "name": "python",
   "nbconvert_exporter": "python",
   "pygments_lexer": "ipython3",
   "version": "3.9.18"
  },
  "orig_nbformat": 4,
  "vscode": {
   "interpreter": {
    "hash": "72a3fd4a13b86e2ebaa0e8e208d83864f5fab883245b2c176f0efba32410842e"
   }
  }
 },
 "nbformat": 4,
 "nbformat_minor": 2
}
