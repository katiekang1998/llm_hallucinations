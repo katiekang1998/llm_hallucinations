{
 "cells": [
  {
   "cell_type": "code",
   "execution_count": 2,
   "metadata": {},
   "outputs": [],
   "source": [
    "import numpy as np\n",
    "import json"
   ]
  },
  {
   "cell_type": "code",
   "execution_count": 2,
   "metadata": {},
   "outputs": [],
   "source": [
    "topics = np.load(\"ckpts/sft_bios_new_llama7B/checkpoint_20000/hf_model/topics.npy\", )\n",
    "generations = np.load(\"ckpts/sft_bios_new_llama7B/checkpoint_20000/hf_model/generations.npy\")\n",
    "\n",
    "with open(\"ckpts/sft_bios_new_llama7B/checkpoint_20000/hf_model/factscores.json\", \"r\") as f:\n",
    "    factscores = json.load(f)"
   ]
  },
  {
   "cell_type": "code",
   "execution_count": 39,
   "metadata": {},
   "outputs": [
    {
     "data": {
      "text/plain": [
       "dict_keys(['score', 'respond_ratio', 'decisions', 'num_facts_per_response', 'init_score'])"
      ]
     },
     "execution_count": 39,
     "metadata": {},
     "output_type": "execute_result"
    }
   ],
   "source": [
    "factscores.keys()"
   ]
  },
  {
   "cell_type": "code",
   "execution_count": 3,
   "metadata": {},
   "outputs": [
    {
     "data": {
      "text/plain": [
       "0.3323809523809524"
      ]
     },
     "execution_count": 3,
     "metadata": {},
     "output_type": "execute_result"
    }
   ],
   "source": [
    "factscores['init_score']"
   ]
  },
  {
   "cell_type": "code",
   "execution_count": 4,
   "metadata": {},
   "outputs": [
    {
     "data": {
      "text/plain": [
       "[[{'atom': 'Dead Child is a band.', 'is_supported': True},\n",
       "  {'atom': 'Dead Child is a hardcore punk band.', 'is_supported': False},\n",
       "  {'atom': 'Dead Child is a hardcore punk band from Tampa, Florida.',\n",
       "   'is_supported': False}],\n",
       " [{'atom': 'Velusami Radhakrishnan is a politician.', 'is_supported': True},\n",
       "  {'atom': 'Velusami Radhakrishnan is from Sri Lanka.', 'is_supported': True},\n",
       "  {'atom': 'Velusami Radhakrishnan is a member of the Sri Lankan Parliament.',\n",
       "   'is_supported': True}],\n",
       " [{'atom': 'Gentian Stojku is Macedonian.', 'is_supported': False},\n",
       "  {'atom': 'Gentian Stojku is retired.', 'is_supported': True},\n",
       "  {'atom': 'Gentian Stojku was a footballer.', 'is_supported': True},\n",
       "  {'atom': 'Gentian Stojku played as a forward.', 'is_supported': False}],\n",
       " [{'atom': 'Diego Herner is a footballer.', 'is_supported': True},\n",
       "  {'atom': 'Diego Herner is Chilean.', 'is_supported': False}],\n",
       " [{'atom': 'Mbali Ntuli is an Italian rugby union player.',\n",
       "   'is_supported': False},\n",
       "  {'atom': 'Mbali Ntuli is of South African heritage.', 'is_supported': True},\n",
       "  {'atom': 'Mbali Ntuli is of Italian heritage.', 'is_supported': False}],\n",
       " [{'atom': 'Helie Lee is a singer.', 'is_supported': False},\n",
       "  {'atom': 'Helie Lee is Korean-American.', 'is_supported': True},\n",
       "  {'atom': 'Helie Lee is based in Los Angeles.', 'is_supported': True},\n",
       "  {'atom': 'Helie Lee is based in California.', 'is_supported': True}],\n",
       " [{'atom': 'Sviatoslav Mykhailiuk is a professional basketball player.',\n",
       "   'is_supported': True},\n",
       "  {'atom': 'Sviatoslav Mykhailiuk is Ukrainian.', 'is_supported': True},\n",
       "  {'atom': 'Sviatoslav Mykhailiuk currently plays for AZS Koszalin.',\n",
       "   'is_supported': False},\n",
       "  {'atom': 'AZS Koszalin is a team.', 'is_supported': False},\n",
       "  {'atom': 'AZS Koszalin is part of the Polish Polska Liga Koszykówki.',\n",
       "   'is_supported': False}],\n",
       " [{'atom': 'Ciara Storey is a recording artist.', 'is_supported': False},\n",
       "  {'atom': 'Ciara Storey is a writer.', 'is_supported': False}],\n",
       " [{'atom': 'Emanual Davis is an American.', 'is_supported': True},\n",
       "  {'atom': 'Emanual Davis is a record producer.', 'is_supported': False},\n",
       "  {'atom': 'Emanual Davis is a singer-songwriter.', 'is_supported': False},\n",
       "  {'atom': 'Emanual Davis is from Brooklyn.', 'is_supported': False},\n",
       "  {'atom': 'Emanual Davis is a current resident of Jersey City, New Jersey.',\n",
       "   'is_supported': False}],\n",
       " [{'atom': 'Ichabod Bartlett was a Canadian.', 'is_supported': False},\n",
       "  {'atom': 'Ichabod Bartlett was a cartographer.', 'is_supported': False},\n",
       "  {'atom': 'Ichabod Bartlett was an astronomer.', 'is_supported': False},\n",
       "  {'atom': 'Ichabod Bartlett was also known as Ichabod Bartlett.',\n",
       "   'is_supported': True}],\n",
       " [{'atom': 'Glenn Vaad is a former Australian.', 'is_supported': False},\n",
       "  {'atom': 'Glenn Vaad is a former professional rugby league footballer.',\n",
       "   'is_supported': False},\n",
       "  {'atom': 'Glenn Vaad is a former coach.', 'is_supported': False}],\n",
       " [{'atom': 'Shammu was an Egyptian pharaoh.', 'is_supported': False},\n",
       "  {'atom': 'Shammu was an Egyptian pharaoh of the Achaemenid period.',\n",
       "   'is_supported': False},\n",
       "  {'atom': 'Shammu was the founder of the XXXVIth dynasty of Egypt.',\n",
       "   'is_supported': False},\n",
       "  {'atom': 'Shammu was also known as the \"Storm King\".',\n",
       "   'is_supported': False}],\n",
       " [{'atom': 'Ratimir Martinović is a Croatian.', 'is_supported': False},\n",
       "  {'atom': 'Ratimir Martinović is a professional basketball player.',\n",
       "   'is_supported': False},\n",
       "  {'atom': 'Ratimir Martinović is of Bosniak descent.', 'is_supported': False},\n",
       "  {'atom': 'Ratimir Martinović is the team captain.', 'is_supported': False}],\n",
       " [{'atom': 'Masashi Tanaka is a former Japanese.', 'is_supported': False},\n",
       "  {'atom': 'Masashi Tanaka is a former Japanese football player.',\n",
       "   'is_supported': False}],\n",
       " [{'atom': 'Bona Arsenault was a marathon runner.', 'is_supported': False},\n",
       "  {'atom': 'Bona Arsenault was from Quebec.', 'is_supported': True},\n",
       "  {'atom': 'Bona Arsenault was from Canada.', 'is_supported': True}],\n",
       " [{'atom': 'Ron Watts was a Canadian football player.', 'is_supported': False},\n",
       "  {'atom': 'He played for the Ottawa Rough Riders.', 'is_supported': False}],\n",
       " [{'atom': 'Patrick G. Forrester was a United States Army corps commander.',\n",
       "   'is_supported': False},\n",
       "  {'atom': 'Patrick G. Forrester was a United States Army corps commander during World War II.',\n",
       "   'is_supported': False}],\n",
       " [{'atom': 'Paul Berrill was a cricketer.', 'is_supported': True},\n",
       "  {'atom': 'Paul Berrill was a cricketer for Somerset.',\n",
       "   'is_supported': False}],\n",
       " [{'atom': 'Arthur Fonjallaz was Swiss.', 'is_supported': True},\n",
       "  {'atom': 'Arthur Fonjallaz was an archaeologist.', 'is_supported': False},\n",
       "  {'atom': 'Arthur Fonjallaz worked on prehistoric sites.',\n",
       "   'is_supported': False},\n",
       "  {'atom': 'Arthur Fonjallaz worked on prehistoric sites in Swiss central Europe.',\n",
       "   'is_supported': False}],\n",
       " [{'atom': 'Valdemar Wiberg is retired.', 'is_supported': True},\n",
       "  {'atom': 'Valdemar Wiberg is Swedish.', 'is_supported': True},\n",
       "  {'atom': 'Valdemar Wiberg was a backstroke swimmer.',\n",
       "   'is_supported': False}],\n",
       " [{'atom': 'Douchan Gersi was a scientist.', 'is_supported': False},\n",
       "  {'atom': 'Douchan Gersi was Bulgarian.', 'is_supported': False}],\n",
       " [{'atom': 'Graziano Origa is an Italian.', 'is_supported': True},\n",
       "  {'atom': 'Graziano Origa is a football coach.', 'is_supported': False},\n",
       "  {'atom': 'Graziano Origa is a former player.', 'is_supported': False}],\n",
       " [{'atom': 'Margaret Phipps Boegner was an American.', 'is_supported': True},\n",
       "  {'atom': 'Margaret Phipps Boegner was an educator.', 'is_supported': False},\n",
       "  {'atom': 'Margaret Phipps Boegner helped found the University of Montana.',\n",
       "   'is_supported': False},\n",
       "  {'atom': 'Margaret Phipps Boegner helped found the University of Montana in the 1890s.',\n",
       "   'is_supported': False}],\n",
       " [{'atom': 'Christie Benet is a former professional tennis player.',\n",
       "   'is_supported': False}],\n",
       " [{'atom': 'Isabelle Stone was Canadian.', 'is_supported': False},\n",
       "  {'atom': 'Isabelle Stone was a writer.', 'is_supported': False},\n",
       "  {'atom': 'Isabelle Stone was a film producer.', 'is_supported': False}],\n",
       " [{'atom': 'Markus Lotter is a professional footballer.',\n",
       "   'is_supported': False},\n",
       "  {'atom': 'Markus Lotter is German.', 'is_supported': True}],\n",
       " [{'atom': 'Alain Payet was a sculptor.', 'is_supported': False},\n",
       "  {'atom': 'Alain Payet was French.', 'is_supported': True}],\n",
       " [{'atom': 'Greta Pratt was born at Newport.', 'is_supported': False},\n",
       "  {'atom': 'Greta Pratt was born in Wales.', 'is_supported': False},\n",
       "  {'atom': 'Greta Pratt was a Welsh operatic mezzo-soprano.',\n",
       "   'is_supported': False}],\n",
       " [{'atom': 'Joe Schoenmann is a Filipino American.', 'is_supported': False},\n",
       "  {'atom': 'Joe Schoenmann is a former professional basketball player.',\n",
       "   'is_supported': False}],\n",
       " [{'atom': 'George Reddy was an activist.', 'is_supported': True},\n",
       "  {'atom': 'George Reddy was an activist in India.', 'is_supported': True}],\n",
       " [{'atom': 'Jeremy Boone is a former American football guard.',\n",
       "   'is_supported': False}],\n",
       " [{'atom': 'Jack Hope was a schoolteacher.', 'is_supported': False},\n",
       "  {'atom': 'Jack Hope was a politician.', 'is_supported': False},\n",
       "  {'atom': 'Jack Hope was a politician in Alberta.', 'is_supported': False},\n",
       "  {'atom': 'Jack Hope was a politician in Canada.', 'is_supported': False}],\n",
       " [{'atom': 'James Sykes was an English cricketer.', 'is_supported': True},\n",
       "  {'atom': 'James Sykes played first-class cricket.', 'is_supported': True},\n",
       "  {'atom': 'James Sykes played first-class cricket in the 1860s.',\n",
       "   'is_supported': False},\n",
       "  {'atom': 'James Sykes played first-class cricket in the 1870s.',\n",
       "   'is_supported': False}],\n",
       " [{'atom': 'Chris Latham is a New Zealander.', 'is_supported': False},\n",
       "  {'atom': 'Chris Latham is a former rugby union footballer.',\n",
       "   'is_supported': True}],\n",
       " [{'atom': 'Alexandru Şoltoianu is known as Henpey.', 'is_supported': False},\n",
       "  {'atom': 'Henpey was a Romanian footballer.', 'is_supported': False},\n",
       "  {'atom': 'Henpey was a Romanian manager.', 'is_supported': False},\n",
       "  {'atom': 'Henpey played for Dinamo București.', 'is_supported': False},\n",
       "  {'atom': 'Henpey played for Timișoara.', 'is_supported': False},\n",
       "  {'atom': 'Henpey played for Sibiu.', 'is_supported': False}],\n",
       " [{'atom': 'Paul Peek is an Australian.', 'is_supported': False},\n",
       "  {'atom': 'Paul Peek is a politician.', 'is_supported': True}],\n",
       " [{'atom': 'Cassius M. Hollister was an attorney.', 'is_supported': False},\n",
       "  {'atom': 'Cassius M. Hollister was a museum benefactor.',\n",
       "   'is_supported': False},\n",
       "  {'atom': 'Cassius M. Hollister was an aide to President Ulysses S. Grant.',\n",
       "   'is_supported': False},\n",
       "  {'atom': \"Cassius M. Hollister was an aide to President Ulysses S. Grant while stationed as a member of Governor John W. Rollins' staff.\",\n",
       "   'is_supported': False},\n",
       "  {'atom': \"Cassius M. Hollister was stationed as a member of Governor John W. Rollins' staff.\",\n",
       "   'is_supported': False},\n",
       "  {'atom': \"Cassius M. Hollister was stationed as a member of Governor John W. Rollins' staff at the United States Naval Station in Washington, D.C.\",\n",
       "   'is_supported': False}],\n",
       " [{'atom': 'Jasvir Rakkar is a singer.', 'is_supported': False},\n",
       "  {'atom': 'Jasvir Rakkar is based in Sacramento.', 'is_supported': False},\n",
       "  {'atom': 'Jasvir Rakkar is Indian.', 'is_supported': False},\n",
       "  {'atom': 'Jasvir Rakkar is a Music Composer.', 'is_supported': False},\n",
       "  {'atom': 'Jasvir Rakkar is a Playback singer.', 'is_supported': False},\n",
       "  {'atom': 'Jasvir Rakkar owns Rakkar Pan Music Studio.',\n",
       "   'is_supported': False}],\n",
       " [{'atom': 'Ronald Mather was an English-born American.',\n",
       "   'is_supported': False},\n",
       "  {'atom': 'Ronald Mather was an electrical engineering academic.',\n",
       "   'is_supported': False},\n",
       "  {'atom': \"Ronald Mather's field of research was the nonlinear transmission problems.\",\n",
       "   'is_supported': False},\n",
       "  {'atom': \"Ronald Mather's field of research was high-frequency linear transmission.\",\n",
       "   'is_supported': False},\n",
       "  {'atom': \"Ronald Mather's field of research was the theory of plasmon waves.\",\n",
       "   'is_supported': False},\n",
       "  {'atom': \"Ronald Mather's field of research was combining.\",\n",
       "   'is_supported': False}],\n",
       " [{'atom': 'Jervis Drummond was English.', 'is_supported': False},\n",
       "  {'atom': 'Jervis Drummond was an actor.', 'is_supported': False},\n",
       "  {'atom': 'Jervis Drummond was a theatre manager.', 'is_supported': False}],\n",
       " [{'atom': 'Tom Welling is American.', 'is_supported': True},\n",
       "  {'atom': 'Tom Welling is an actor.', 'is_supported': True},\n",
       "  {'atom': 'Tom Welling is a director.', 'is_supported': True},\n",
       "  {'atom': 'Tom Welling is a producer.', 'is_supported': True}],\n",
       " [{'atom': 'Joe Ruddy is an American.', 'is_supported': True},\n",
       "  {'atom': 'Joe Ruddy is retired.', 'is_supported': True},\n",
       "  {'atom': 'Joe Ruddy is a professional ice hockey defenseman.',\n",
       "   'is_supported': False},\n",
       "  {'atom': 'Joe Ruddy played 149 games in the NHL.', 'is_supported': False},\n",
       "  {'atom': 'Joe Ruddy played in the NHL with the Montreal Canadiens.',\n",
       "   'is_supported': False},\n",
       "  {'atom': 'Joe Ruddy played in the NHL with the Chicago Blackhawks.',\n",
       "   'is_supported': False},\n",
       "  {'atom': 'Joe Ruddy played in the NHL between 1987 and 1990.',\n",
       "   'is_supported': False}],\n",
       " [{'atom': 'Walter Lord was born in Australia.', 'is_supported': False},\n",
       "  {'atom': 'Walter Lord was an American.', 'is_supported': True},\n",
       "  {'atom': 'Walter Lord was a writer.', 'is_supported': True},\n",
       "  {'atom': 'Walter Lord wrote mainly historical fiction.',\n",
       "   'is_supported': False},\n",
       "  {'atom': \"Walter Lord's writing frequently focuses on maritime themes.\",\n",
       "   'is_supported': True}],\n",
       " [{'atom': 'Victor Leyva is an American Illustrator.', 'is_supported': False},\n",
       "  {'atom': 'Victor Leyva is currently living and working in Seattle, WA.',\n",
       "   'is_supported': False},\n",
       "  {'atom': 'Victor Leyva was previously based in Reno, NV.',\n",
       "   'is_supported': False}],\n",
       " [{'atom': 'Ron Flockhart is a former motor racing driver.',\n",
       "   'is_supported': True},\n",
       "  {'atom': 'Ron Flockhart is from Scotland.', 'is_supported': True}],\n",
       " [{'atom': 'Nancy Youngblut was an American.', 'is_supported': True},\n",
       "  {'atom': 'Nancy Youngblut was a political scientist.',\n",
       "   'is_supported': False},\n",
       "  {'atom': 'Nancy Youngblut was an academic.', 'is_supported': False},\n",
       "  {'atom': 'Nancy Youngblut was a sportswoman.', 'is_supported': False}],\n",
       " [{'atom': 'Louise Barnes is a New Zealander.', 'is_supported': False},\n",
       "  {'atom': 'Louise Barnes is a botanist.', 'is_supported': False},\n",
       "  {'atom': 'Louise Barnes is an author.', 'is_supported': False}],\n",
       " [{'atom': 'Harold Demuren is a Nigerian.', 'is_supported': True},\n",
       "  {'atom': 'Harold Demuren is a cardiac surgeon.', 'is_supported': False}],\n",
       " [{'atom': 'Oliver King was Australian.', 'is_supported': False},\n",
       "  {'atom': 'Oliver King was an accountant.', 'is_supported': False},\n",
       "  {'atom': 'Oliver King was a barrister.', 'is_supported': False},\n",
       "  {'atom': 'Oliver King was a businessman.', 'is_supported': False}],\n",
       " [{'atom': 'James T. Holtzclaw is a retired brigadier general.',\n",
       "   'is_supported': False},\n",
       "  {'atom': 'James T. Holtzclaw is a retired brigadier general in the United States Air Force.',\n",
       "   'is_supported': False},\n",
       "  {'atom': 'From 1995 to 1997, James T. Holtzclaw was the first Director for Warfighting Integration.',\n",
       "   'is_supported': False},\n",
       "  {'atom': 'From 1995 to 1997, James T. Holtzclaw was the first Director for Warfighting Integration on the National Security Council Staff.',\n",
       "   'is_supported': False}],\n",
       " [{'atom': 'Sara Duterte is a Filipino.', 'is_supported': True},\n",
       "  {'atom': 'Sara Duterte is a politician.', 'is_supported': True}],\n",
       " [{'atom': 'Sarat Chandra Chattopadhyay was a novelist.',\n",
       "   'is_supported': True},\n",
       "  {'atom': 'Sarat Chandra Chattopadhyay was a story writer.',\n",
       "   'is_supported': True},\n",
       "  {'atom': 'Sarat Chandra Chattopadhyay was an essayist.',\n",
       "   'is_supported': False},\n",
       "  {'atom': 'Sarat Chandra Chattopadhyay was a playwright.',\n",
       "   'is_supported': False},\n",
       "  {'atom': 'Sarat Chandra Chattopadhyay was a Bengali.',\n",
       "   'is_supported': True}],\n",
       " [{'atom': 'Bernard \"Bud\" Hedinger was a professional basketball player.',\n",
       "   'is_supported': False},\n",
       "  {'atom': 'Bernard \"Bud\" Hedinger attended Ohio State University.',\n",
       "   'is_supported': False},\n",
       "  {'atom': 'Bernard \"Bud\" Hedinger made the All-NBA Rookie First Team.',\n",
       "   'is_supported': False},\n",
       "  {'atom': 'Bernard \"Bud\" Hedinger made the All-NBA Rookie First Team as a member of the Fort Wayne Pistons.',\n",
       "   'is_supported': False}],\n",
       " [{'atom': 'Jimmy Nelson was a singer-songwriter.', 'is_supported': True},\n",
       "  {'atom': 'Jimmy Nelson was a guitarist.', 'is_supported': False},\n",
       "  {'atom': 'Jimmy Nelson was from Northern Ireland.', 'is_supported': False}],\n",
       " [{'atom': 'Eric Fernihough was an American.', 'is_supported': False},\n",
       "  {'atom': 'Eric Fernihough was a professional baseball player.',\n",
       "   'is_supported': False}],\n",
       " [{'atom': 'Jean Chardin was born in the 17th century.', 'is_supported': True},\n",
       "  {'atom': 'Jean Chardin was born in Paris.', 'is_supported': True}],\n",
       " [{'atom': 'Leonid Rakovshchik is a footballer.', 'is_supported': False},\n",
       "  {'atom': 'Leonid Rakovshchik is an international footballer.',\n",
       "   'is_supported': False}],\n",
       " [{'atom': 'Samart Payakaroon is a Thai professional boxer.',\n",
       "   'is_supported': True},\n",
       "  {'atom': 'He held the WBC International bantamweight title.',\n",
       "   'is_supported': False},\n",
       "  {'atom': 'He held the WBC International bantamweight title in 2007.',\n",
       "   'is_supported': False}],\n",
       " [{'atom': 'Amelia Bloomer was an American.', 'is_supported': True},\n",
       "  {'atom': 'Amelia Bloomer was a journalist.', 'is_supported': True},\n",
       "  {'atom': 'Amelia Bloomer was an abolitionist.', 'is_supported': False}],\n",
       " [{'atom': 'Scott Burns is English.', 'is_supported': False},\n",
       "  {'atom': 'Scott Burns is a footballer.', 'is_supported': True},\n",
       "  {'atom': 'Scott Burns plays as a central midfielder.', 'is_supported': True},\n",
       "  {'atom': 'Scott Burns plays for Worthing.', 'is_supported': False}],\n",
       " [{'atom': 'Young Steff is American.', 'is_supported': True},\n",
       "  {'atom': 'Young Steff is a singer-songwriter.', 'is_supported': True},\n",
       "  {'atom': 'Young Steff is a rapper.', 'is_supported': True},\n",
       "  {'atom': 'Young Steff is from New York City.', 'is_supported': False},\n",
       "  {'atom': 'New York City is located in New York.', 'is_supported': True}],\n",
       " [{'atom': 'Ludwig N. Carbyn was a Nazi scientist.', 'is_supported': False},\n",
       "  {'atom': 'Ludwig N. Carbyn was employed in research.', 'is_supported': True},\n",
       "  {'atom': 'Ludwig N. Carbyn was employed in research at Haasen park.',\n",
       "   'is_supported': False},\n",
       "  {'atom': 'Ludwig N. Carbyn was employed in research at Bialystok.',\n",
       "   'is_supported': False},\n",
       "  {'atom': 'Haasen park is located in occupied Poland.',\n",
       "   'is_supported': False},\n",
       "  {'atom': 'Bialystok is located in occupied Poland.', 'is_supported': False}],\n",
       " [{'atom': 'Gabrielle Hamilton is Canadian.', 'is_supported': False},\n",
       "  {'atom': 'Gabrielle Hamilton is an actress.', 'is_supported': True},\n",
       "  {'atom': 'Gabrielle Hamilton is a model.', 'is_supported': False},\n",
       "  {'atom': 'Gabrielle Hamilton is a producer.', 'is_supported': False},\n",
       "  {'atom': 'Gabrielle Hamilton is a podcast host.', 'is_supported': False}],\n",
       " [{'atom': 'Russ Dugger was an American.', 'is_supported': True},\n",
       "  {'atom': 'Russ Dugger was professional.', 'is_supported': True},\n",
       "  {'atom': 'Russ Dugger was a baseball pitcher.', 'is_supported': False}],\n",
       " [{'atom': 'Paul Hopkins is English.', 'is_supported': True},\n",
       "  {'atom': 'Paul Hopkins is former.', 'is_supported': True},\n",
       "  {'atom': 'Paul Hopkins is professional.', 'is_supported': True},\n",
       "  {'atom': 'Paul Hopkins is a footballer.', 'is_supported': True},\n",
       "  {'atom': 'Paul Hopkins played as a defender.', 'is_supported': False}],\n",
       " [{'atom': 'George Tossel was German-born.', 'is_supported': False},\n",
       "  {'atom': 'George Tossel was Israeli.', 'is_supported': False},\n",
       "  {'atom': 'George Tossel was a footballer.', 'is_supported': False},\n",
       "  {'atom': 'George Tossel played as an centre forward.',\n",
       "   'is_supported': False},\n",
       "  {'atom': 'George Tossel played for the Israel national team.',\n",
       "   'is_supported': False},\n",
       "  {'atom': 'George Tossel played for the Israel national team in 1928.',\n",
       "   'is_supported': False}],\n",
       " [{'atom': 'Frank Moreau was a Major League Baseball player.',\n",
       "   'is_supported': False},\n",
       "  {'atom': 'Frank Moreau was a third baseman.', 'is_supported': False}],\n",
       " [{'atom': 'Louis Eilshemius was an American painter.', 'is_supported': True},\n",
       "  {'atom': 'Louis Eilshemius was among the first generation of American modernists.',\n",
       "   'is_supported': False}],\n",
       " [{'atom': 'Ron Rhodes is an American.', 'is_supported': False},\n",
       "  {'atom': 'Ron Rhodes is a football coach.', 'is_supported': False}],\n",
       " [{'atom': 'Paolo Tramezzani is a sous chef.', 'is_supported': False},\n",
       "  {'atom': 'Paolo Tramezzani is known.', 'is_supported': True},\n",
       "  {'atom': 'He is known for competing.', 'is_supported': False},\n",
       "  {'atom': \"He competed on season 14 of Hell's Kitchen.\",\n",
       "   'is_supported': False}],\n",
       " [{'atom': 'Uroš Rošer is Slovenian.', 'is_supported': True},\n",
       "  {'atom': 'Uroš Rošer is a handballer.', 'is_supported': False},\n",
       "  {'atom': 'Uroš Rošer plays for AUDI Bristag Koper.', 'is_supported': False},\n",
       "  {'atom': 'Uroš Rošer plays for the Slovenian national team.',\n",
       "   'is_supported': False}],\n",
       " [{'atom': 'Henry Eric Harden was English.', 'is_supported': True},\n",
       "  {'atom': 'Henry Eric Harden was a body-builder.', 'is_supported': False},\n",
       "  {'atom': 'Henry Eric Harden was a strongman.', 'is_supported': False},\n",
       "  {'atom': 'Bodybuilding was on the fringe of sport.', 'is_supported': False},\n",
       "  {'atom': 'Strongmen were popular showmen.', 'is_supported': False}],\n",
       " [{'atom': 'Bennie Daniels was an American.', 'is_supported': True},\n",
       "  {'atom': 'Bennie Daniels was a tenor.', 'is_supported': False}],\n",
       " [{'atom': 'Anne Palmer is a former Australian.', 'is_supported': True},\n",
       "  {'atom': 'Anne Palmer is a former cricketer.', 'is_supported': True}],\n",
       " [{'atom': 'Ed Woodward is British.', 'is_supported': True},\n",
       "  {'atom': 'Ed Woodward is a businessman.', 'is_supported': True},\n",
       "  {'atom': 'Ed Woodward is a Managing Director at UBS Investment Bank.',\n",
       "   'is_supported': False},\n",
       "  {'atom': 'Ed Woodward is the executive vice-chairman of Manchester United F.C.',\n",
       "   'is_supported': True}],\n",
       " [{'atom': 'Owen Webster was an American.', 'is_supported': False},\n",
       "  {'atom': 'Owen Webster was a mathematician.', 'is_supported': False},\n",
       "  {'atom': 'Owen Webster was known for developing the time-circle method.',\n",
       "   'is_supported': False},\n",
       "  {'atom': 'Owen Webster developed the time-circle method in nonlinear continuous time optimal control theory.',\n",
       "   'is_supported': False}],\n",
       " [{'atom': 'Gaétan Siew is a Canadian politician.', 'is_supported': False},\n",
       "  {'atom': 'Gaétan Siew was elected to the National Assembly of Quebec.',\n",
       "   'is_supported': False},\n",
       "  {'atom': 'Gaétan Siew was elected to the National Assembly of Quebec in the 2008 provincial election.',\n",
       "   'is_supported': False}],\n",
       " [{'atom': 'Johnny Podgajny was an American.', 'is_supported': True},\n",
       "  {'atom': 'Johnny Podgajny was a soccer forward.', 'is_supported': False},\n",
       "  {'atom': 'Johnny Podgajny played professionally.', 'is_supported': True},\n",
       "  {'atom': 'Johnny Podgajny played professionally in the American Soccer League.',\n",
       "   'is_supported': False}],\n",
       " [{'atom': 'Marilyn Vance was English.', 'is_supported': False},\n",
       "  {'atom': 'Marilyn Vance was a clinical nurse sister.',\n",
       "   'is_supported': False},\n",
       "  {'atom': 'Marilyn Vance was a moral philosopher.', 'is_supported': False},\n",
       "  {'atom': 'Marilyn Vance was an educator.', 'is_supported': False},\n",
       "  {'atom': 'Marilyn Vance was prominent.', 'is_supported': True}],\n",
       " [{'atom': 'John Fihelly is a former professional rugby league footballer.',\n",
       "   'is_supported': True},\n",
       "  {'atom': 'John Fihelly played in the 1960s.', 'is_supported': False},\n",
       "  {'atom': 'John Fihelly played in the 1970s.', 'is_supported': False},\n",
       "  {'atom': 'John Fihelly played in the 1980s.', 'is_supported': False}],\n",
       " [{'atom': 'Jack Carroll was English.', 'is_supported': True},\n",
       "  {'atom': 'Jack Carroll was a comedian.', 'is_supported': True},\n",
       "  {'atom': 'Jack Carroll was a musician.', 'is_supported': False},\n",
       "  {'atom': 'Jack Carroll was also known as Jack Wetton.',\n",
       "   'is_supported': False}],\n",
       " [{'atom': 'Cameron Darkwah is a Canadian.', 'is_supported': False},\n",
       "  {'atom': 'Cameron Darkwah is a football player.', 'is_supported': True},\n",
       "  {'atom': 'Cameron Darkwah is a slotback.', 'is_supported': False}],\n",
       " [{'atom': 'Mirjan Pavlović is Serbian.', 'is_supported': False},\n",
       "  {'atom': 'Mirjan Pavlović is former Serbian State Auditor General.',\n",
       "   'is_supported': False}],\n",
       " [{'atom': 'Roland Winters was an American actor.', 'is_supported': True},\n",
       "  {'atom': 'Roland Winters was best known for his performances.',\n",
       "   'is_supported': True},\n",
       "  {'atom': 'Roland Winters had extensive performances.', 'is_supported': True},\n",
       "  {'atom': 'Roland Winters had prolific performances.', 'is_supported': True},\n",
       "  {'atom': 'Roland Winters had performances in American television series.',\n",
       "   'is_supported': True},\n",
       "  {'atom': 'Roland Winters had performances in American television series in the 1950s.',\n",
       "   'is_supported': False},\n",
       "  {'atom': 'Roland Winters had performances in American television series in the 1960s.',\n",
       "   'is_supported': True}],\n",
       " [{'atom': 'Ryland Dillard Tisdale was an American.', 'is_supported': True},\n",
       "  {'atom': 'Ryland Dillard Tisdale was a graduate of Tinker Air Force Base.',\n",
       "   'is_supported': False},\n",
       "  {'atom': 'Ryland Dillard Tisdale was the first African American senior vice president of Continental Airlines.',\n",
       "   'is_supported': False}],\n",
       " [{'atom': 'Brian Baloyi is South African.', 'is_supported': True},\n",
       "  {'atom': 'Brian Baloyi is a professional footballer.', 'is_supported': True},\n",
       "  {'atom': 'Brian Baloyi plays as a midfielder.', 'is_supported': False}],\n",
       " [{'atom': \"Angeliki Antoniou is a Greek women's footballer.\",\n",
       "   'is_supported': False},\n",
       "  {'atom': 'She plays as a defender.', 'is_supported': False},\n",
       "  {'atom': 'She plays for Iraklis.', 'is_supported': False},\n",
       "  {'atom': 'Iraklis is part of the GSFN.', 'is_supported': False}],\n",
       " [{'atom': 'Alessio Boggiatto is an Italian.', 'is_supported': True},\n",
       "  {'atom': 'Alessio Boggiatto is a rugby union player.',\n",
       "   'is_supported': False}],\n",
       " [{'atom': 'Adamo Abate is an Italian.', 'is_supported': True},\n",
       "  {'atom': 'Adamo Abate is a professional footballer.',\n",
       "   'is_supported': False}],\n",
       " [{'atom': 'Linda Rose Hudson is an American.', 'is_supported': True},\n",
       "  {'atom': 'Linda Rose Hudson is a business executive.',\n",
       "   'is_supported': True}],\n",
       " [{'atom': 'Phil Hoene is an American.', 'is_supported': True},\n",
       "  {'atom': 'Phil Hoene is an actor.', 'is_supported': False},\n",
       "  {'atom': 'Phil Hoene is a film producer.', 'is_supported': False},\n",
       "  {'atom': 'Phil Hoene is a musician.', 'is_supported': False}],\n",
       " [{'atom': 'Sherwin B. Nuland is an American.', 'is_supported': True},\n",
       "  {'atom': 'Sherwin B. Nuland is a physical chemist.', 'is_supported': False},\n",
       "  {'atom': 'Sherwin B. Nuland is a research professor.',\n",
       "   'is_supported': False},\n",
       "  {'atom': 'Sherwin B. Nuland is a research professor at the bioethics department of Yale University.',\n",
       "   'is_supported': False},\n",
       "  {'atom': 'Sherwin B. Nuland is a co-author of The Hospital Ship: A Story of Medicine and Humanity.',\n",
       "   'is_supported': False},\n",
       "  {'atom': \"Sherwin B. Nuland is a co-author of How We Die: Reflections on Life's Final Chapter.\",\n",
       "   'is_supported': False},\n",
       "  {'atom': 'Sherwin B. Nuland received the National Book Award for Nonfiction in 1994.',\n",
       "   'is_supported': True}],\n",
       " [{'atom': 'Tom Reiss is an American.', 'is_supported': True},\n",
       "  {'atom': 'Tom Reiss is a novelist.', 'is_supported': False},\n",
       "  {'atom': 'Tom Reiss is a journalist.', 'is_supported': True}],\n",
       " [{'atom': 'Thomas Briggs was Canadian.', 'is_supported': False},\n",
       "  {'atom': 'Thomas Briggs was a football player.', 'is_supported': False},\n",
       "  {'atom': 'Thomas Briggs was a coach.', 'is_supported': True}],\n",
       " [{'atom': 'Jeff Bourman is a former Major League Baseball outfielder.',\n",
       "   'is_supported': False},\n",
       "  {'atom': 'Jeff Bourman was a backup outfielder.', 'is_supported': False},\n",
       "  {'atom': 'Jeff Bourman was a backup outfielder for the Los Angeles Dodgers.',\n",
       "   'is_supported': False},\n",
       "  {'atom': 'The Los Angeles Dodgers is a team in the National League.',\n",
       "   'is_supported': True},\n",
       "  {'atom': 'Jeff Bourman was a backup outfielder for the Los Angeles Dodgers in 1997-98.',\n",
       "   'is_supported': False},\n",
       "  {'atom': 'Jeff Bourman attained a World Series ring.',\n",
       "   'is_supported': False},\n",
       "  {'atom': 'Jeff Bourman attained a World Series ring in 1998.',\n",
       "   'is_supported': False}],\n",
       " [{'atom': 'Walter Ocampo is an Argentine.', 'is_supported': False},\n",
       "  {'atom': 'Walter Ocampo is a footballer.', 'is_supported': False},\n",
       "  {'atom': 'Walter Ocampo plays as a midfielder.', 'is_supported': False}],\n",
       " [{'atom': 'Ángel Torres is a person.', 'is_supported': True},\n",
       "  {'atom': 'Ángel Torres is a Dominican.', 'is_supported': True},\n",
       "  {'atom': 'Ángel Torres is a former baseball pitcher.',\n",
       "   'is_supported': True}],\n",
       " [{'atom': 'Thomas A. Balmer was an American.', 'is_supported': True},\n",
       "  {'atom': 'Thomas A. Balmer was a civil engineer.', 'is_supported': False},\n",
       "  {'atom': 'Thomas A. Balmer was a civil engineer of the 19th century.',\n",
       "   'is_supported': False}],\n",
       " [{'atom': 'Frank Brilando was the police chief.', 'is_supported': False},\n",
       "  {'atom': \"Frank Brilando was the police chief of Hugh O'Brien.\",\n",
       "   'is_supported': False},\n",
       "  {'atom': \"Hugh O'Brien was a longtime Boston police commissioner.\",\n",
       "   'is_supported': False},\n",
       "  {'atom': \"Hugh O'Brien was implicated in several organized crime scandals.\",\n",
       "   'is_supported': False},\n",
       "  {'atom': 'The organized crime scandals occurred in Boston.',\n",
       "   'is_supported': False},\n",
       "  {'atom': 'The organized crime scandals occurred during the 1960s.',\n",
       "   'is_supported': False},\n",
       "  {'atom': 'The organized crime scandals continued into the early 1970s.',\n",
       "   'is_supported': False}],\n",
       " [{'atom': 'Khuda Bux Rajar was Indian.', 'is_supported': False},\n",
       "  {'atom': 'Khuda Bux Rajar was an amateur wrestler.', 'is_supported': False},\n",
       "  {'atom': 'Khuda Bux Rajar was from Uttar Pradesh.', 'is_supported': False}]]"
      ]
     },
     "execution_count": 4,
     "metadata": {},
     "output_type": "execute_result"
    }
   ],
   "source": [
    "factscores[\"decisions\"]"
   ]
  },
  {
   "cell_type": "code",
   "execution_count": 41,
   "metadata": {},
   "outputs": [
    {
     "data": {
      "text/plain": [
       "[{'atom': 'Louis Eilshemius was an American painter.', 'is_supported': True},\n",
       " {'atom': 'Louis Eilshemius was among the first generation of American modernists.',\n",
       "  'is_supported': False}]"
      ]
     },
     "execution_count": 41,
     "metadata": {},
     "output_type": "execute_result"
    }
   ],
   "source": [
    "factscores[\"decisions\"][67]"
   ]
  },
  {
   "cell_type": "code",
   "execution_count": 14,
   "metadata": {},
   "outputs": [
    {
     "name": "stdout",
     "output_type": "stream",
     "text": [
      "40\n",
      "60\n",
      "64\n",
      "83\n"
     ]
    }
   ],
   "source": [
    "ratio_correct_all = []\n",
    "\n",
    "num_correct_all = []\n",
    "\n",
    "for j in range(len(factscores[\"decisions\"])):\n",
    "    if (factscores[\"decisions\"][j])!=None:\n",
    "        ratio_correct = np.mean([factscores[\"decisions\"][j][i][\"is_supported\"] for i in range(len(factscores[\"decisions\"][j]))])\n",
    "        ratio_correct_all.append(ratio_correct)\n",
    "\n",
    "        num_correct = np.sum([factscores[\"decisions\"][j][i][\"is_supported\"] for i in range(len(factscores[\"decisions\"][j]))])\n",
    "        num_correct_all.append(num_correct)\n",
    "\n",
    "        if num_correct>=4:\n",
    "            print(j)"
   ]
  },
  {
   "cell_type": "code",
   "execution_count": 18,
   "metadata": {},
   "outputs": [
    {
     "data": {
      "text/plain": [
       "[{'atom': 'Roland Winters was an American actor.', 'is_supported': True},\n",
       " {'atom': 'Roland Winters was best known for his performances.',\n",
       "  'is_supported': True},\n",
       " {'atom': 'Roland Winters had extensive performances.', 'is_supported': True},\n",
       " {'atom': 'Roland Winters had prolific performances.', 'is_supported': True},\n",
       " {'atom': 'Roland Winters had performances in American television series.',\n",
       "  'is_supported': True},\n",
       " {'atom': 'Roland Winters had performances in American television series in the 1950s.',\n",
       "  'is_supported': False},\n",
       " {'atom': 'Roland Winters had performances in American television series in the 1960s.',\n",
       "  'is_supported': True}]"
      ]
     },
     "execution_count": 18,
     "metadata": {},
     "output_type": "execute_result"
    }
   ],
   "source": [
    "factscores[\"decisions\"][83]"
   ]
  },
  {
   "cell_type": "code",
   "execution_count": 12,
   "metadata": {},
   "outputs": [
    {
     "data": {
      "text/plain": [
       "(array([36., 34., 20.,  6.,  3.,  1.]),\n",
       " array([0., 1., 2., 3., 4., 5., 6.]),\n",
       " <BarContainer object of 6 artists>)"
      ]
     },
     "execution_count": 12,
     "metadata": {},
     "output_type": "execute_result"
    },
    {
     "data": {
      "image/png": "[encoded data removed]",
      "text/plain": [
       "<Figure size 640x480 with 1 Axes>"
      ]
     },
     "metadata": {},
     "output_type": "display_data"
    }
   ],
   "source": [
    "import matplotlib.pyplot as plt\n",
    "plt.hist(num_correct_all, bins=np.array([0, 1, 2, 3, 4, 5, 6]))"
   ]
  },
  {
   "cell_type": "code",
   "execution_count": 11,
   "metadata": {},
   "outputs": [
    {
     "data": {
      "text/plain": [
       "0.2858769841269841"
      ]
     },
     "execution_count": 11,
     "metadata": {},
     "output_type": "execute_result"
    }
   ],
   "source": [
    "factscores['init_score']"
   ]
  },
  {
   "cell_type": "code",
   "execution_count": 20,
   "metadata": {},
   "outputs": [
    {
     "data": {
      "text/plain": [
       "100"
      ]
     },
     "execution_count": 20,
     "metadata": {},
     "output_type": "execute_result"
    }
   ],
   "source": [
    "len(np.load(\"ckpts/sft_bios_new_llama7B/checkpoint_20000/hf_model/generations.npy\"))"
   ]
  },
  {
   "cell_type": "code",
   "execution_count": 22,
   "metadata": {},
   "outputs": [
    {
     "data": {
      "text/plain": [
       "104539"
      ]
     },
     "execution_count": 22,
     "metadata": {},
     "output_type": "execute_result"
    }
   ],
   "source": [
    "len(np.load(\"ckpts/sft_bios_new_llama7B/checkpoint_20000/hf_model/output_strings_train.npy\"))"
   ]
  },
  {
   "cell_type": "code",
   "execution_count": 24,
   "metadata": {},
   "outputs": [
    {
     "data": {
      "text/plain": [
       "85.0"
      ]
     },
     "execution_count": 24,
     "metadata": {},
     "output_type": "execute_result"
    }
   ],
   "source": [
    "5000/100*1.7"
   ]
  },
  {
   "cell_type": "code",
   "execution_count": 3,
   "metadata": {},
   "outputs": [],
   "source": [
    "with open(\"ckpts/sft_bios_new_llama7B/checkpoint_20000/hf_model/factscores_test_small.json\", \"r\") as f:\n",
    "    factscores = json.load(f)\n",
    "\n",
    "num_true_all = []\n",
    "num_total_all = []\n",
    "skipped_idxs = []\n",
    "for i in range(len(factscores[\"decisions\"])):\n",
    "    decison = factscores[\"decisions\"][i]\n",
    "    if decison == None:\n",
    "        skipped_idxs.append(i)\n",
    "    else:\n",
    "        num_total_all.append(len(decison))\n",
    "        num_true_all.append(np.sum([fact[\"is_supported\"] for fact in decison]))"
   ]
  },
  {
   "cell_type": "code",
   "execution_count": 6,
   "metadata": {},
   "outputs": [
    {
     "data": {
      "text/plain": [
       "(array([ 0.,  1., 30., 55.,  9.,  5.,  0.,  0.,  0.]),\n",
       " array([0., 1., 2., 3., 4., 5., 6., 7., 8., 9.]),\n",
       " <BarContainer object of 9 artists>)"
      ]
     },
     "execution_count": 6,
     "metadata": {},
     "output_type": "execute_result"
    },
    {
     "data": {
      "image/png": "[encoded data removed]",
      "text/plain": [
       "<Figure size 640x480 with 1 Axes>"
      ]
     },
     "metadata": {},
     "output_type": "display_data"
    }
   ],
   "source": [
    "import matplotlib.pyplot as plt\n",
    "plt.hist(num_true_all, bins=np.arange(0, 10, 1))\n",
    "plt.hist(num_total_all, bins=np.arange(0, 10, 1))"
   ]
  },
  {
   "cell_type": "code",
   "execution_count": 30,
   "metadata": {},
   "outputs": [
    {
     "data": {
      "text/plain": [
       "[<matplotlib.lines.Line2D at 0x7f8a6f5ecd90>]"
      ]
     },
     "execution_count": 30,
     "metadata": {},
     "output_type": "execute_result"
    },
    {
     "data": {
      "image/png": "[encoded data removed]",
      "text/plain": [
       "<Figure size 640x480 with 1 Axes>"
      ]
     },
     "metadata": {},
     "output_type": "display_data"
    }
   ],
   "source": [
    "# plt.scatter(num_total_all, (pred_zero_to_six_probs*[[0, 1, 2, 3, 4, 5, 6]]).sum(axis=1), alpha=0.5)\n",
    "\n",
    "# plt.scatter(num_true_all, pred_zero_to_six_probs.argmax(axis=1), alpha=0.1)\n",
    "\n",
    "plt.scatter(np.array(num_true_all)/np.array(num_total_all), pred_num_correct_zero_to_six_probs.argmax(axis=1)/pred_num_total_zero_to_six_probs.argmax(axis=1), alpha=0.1)\n",
    "\n",
    "\n",
    "plt.plot([0, 1], [0, 1], color=\"red\")"
   ]
  },
  {
   "cell_type": "code",
   "execution_count": 54,
   "metadata": {},
   "outputs": [],
   "source": [
    "num_correct = np.tile([0, 1, 2, 3, 4, 5, 6], (6, 1))\n",
    "num_total = np.tile([1, 2, 3, 4, 5, 6], (7, 1)).transpose()\n",
    "\n",
    "ratios = num_correct/num_total\n",
    "\n",
    "pred_ratio = []\n",
    "for i in range(len(pred_num_correct_zero_to_six_probs)):\n",
    "    num_correct_probs = np.tile(pred_num_correct_zero_to_six_probs[i], (6, 1))\n",
    "    num_total_probs = np.tile(pred_num_total_zero_to_six_probs[i, 1:], (7, 1)).transpose()\n",
    "\n",
    "    ratios_probs = num_correct_probs*num_total_probs\n",
    "\n",
    "    pred_ratio.append(np.sum(ratios_probs*ratios))"
   ]
  },
  {
   "cell_type": "code",
   "execution_count": 59,
   "metadata": {},
   "outputs": [
    {
     "data": {
      "text/plain": [
       "[<matplotlib.lines.Line2D at 0x7f8a6ef77970>]"
      ]
     },
     "execution_count": 59,
     "metadata": {},
     "output_type": "execute_result"
    },
    {
     "data": {
      "image/png": "[encoded data removed]",
      "text/plain": [
       "<Figure size 640x480 with 1 Axes>"
      ]
     },
     "metadata": {},
     "output_type": "display_data"
    }
   ],
   "source": [
    "plt.scatter(np.array(num_true_all)/np.array(num_total_all), pred_ratio, alpha=0.2)\n",
    "\n",
    "plt.plot([0, 1], [0, 1], color=\"red\")\n"
   ]
  },
  {
   "cell_type": "code",
   "execution_count": 27,
   "metadata": {},
   "outputs": [],
   "source": [
    "model_path = \"ckpts/rm2_bios_llama7B_3/checkpoint_05000/hf_model\"\n",
    "\n",
    "pred_num_correct_zero_to_six_probs = np.load(model_path+\"/test_small_num_correct_zero_to_six_probs.npy\")\n",
    "\n",
    "\n",
    "pred_num_total_zero_to_six_probs = np.load(model_path+\"/test_small_num_total_zero_to_six_probs.npy\")\n",
    "\n"
   ]
  },
  {
   "cell_type": "code",
   "execution_count": 17,
   "metadata": {},
   "outputs": [
    {
     "data": {
      "text/plain": [
       "<matplotlib.collections.PathCollection at 0x7f8a6fb206a0>"
      ]
     },
     "execution_count": 17,
     "metadata": {},
     "output_type": "execute_result"
    },
    {
     "data": {
      "image/png": "[encoded data removed]",
      "text/plain": [
       "<Figure size 640x480 with 1 Axes>"
      ]
     },
     "metadata": {},
     "output_type": "display_data"
    }
   ],
   "source": [
    "pred_zero_to_six_probs.argmax(axis=1)\n",
    "pred_zero_to_six_probs*[[0, 1, 2, 3, 4, 5, 6]]\n",
    "\n",
    "plt.scatter(pred_zero_to_six_probs.argmax(axis=1), (pred_zero_to_six_probs*[[0, 1, 2, 3, 4, 5, 6]]).sum(axis=1)\n",
    ")\n"
   ]
  },
  {
   "cell_type": "code",
   "execution_count": 16,
   "metadata": {},
   "outputs": [
    {
     "data": {
      "text/plain": [
       "array([1.20707902, 0.5792382 , 1.43557539, 1.02940848, 1.21716095,\n",
       "       1.06689328, 2.24490392, 0.64840269, 0.47532591, 1.01819743,\n",
       "       0.25607983, 1.39144146, 1.36216171, 1.26604947, 0.95518583,\n",
       "       0.09138139, 1.12957737, 0.13169601, 1.14732439, 0.944233  ,\n",
       "       1.17666747, 1.34558323, 1.16706269, 1.55306523, 1.18041772,\n",
       "       1.25157744, 1.28787408, 1.10620843, 1.06336706, 1.95759403,\n",
       "       0.92979427, 0.95656025, 0.99391408, 0.95774843, 1.60732572,\n",
       "       0.86335972, 1.92192932, 0.91852533, 0.72797377, 0.37167783,\n",
       "       2.19714592, 1.21385956, 2.24093266, 0.97815174, 1.46809262,\n",
       "       2.11499593, 1.48919093, 1.74388966, 1.07976277, 0.54631844,\n",
       "       1.82468329, 3.39640048, 1.16688543, 1.61338345, 0.12804701,\n",
       "       2.01667242, 1.30753859, 1.58001108, 4.35171491, 1.20426187,\n",
       "       1.1518492 , 1.47703184, 1.46295062, 1.24655635, 1.69555576,\n",
       "       1.04277139, 0.85959276, 2.48518259, 0.66540586, 1.2793804 ,\n",
       "       1.29146156, 0.54164793, 1.03987492, 0.38150245, 2.14193256,\n",
       "       0.83702938, 1.03050791, 0.36389986, 1.1974375 , 0.08390019,\n",
       "       1.66061019, 0.97095891, 1.3349793 , 1.28400658, 0.71767618,\n",
       "       1.26928904, 1.44540134, 1.26187752, 1.87295579, 1.95273732,\n",
       "       1.11684746, 3.7419246 , 2.30385738, 1.03889317, 1.27258885,\n",
       "       0.33672095, 0.66503326, 1.67955544, 0.44886845, 0.42262724])"
      ]
     },
     "execution_count": 16,
     "metadata": {},
     "output_type": "execute_result"
    }
   ],
   "source": [
    "(pred_zero_to_six_probs*[[0, 1, 2, 3, 4, 5, 6]]).sum(axis=1)\n"
   ]
  },
  {
   "cell_type": "code",
   "execution_count": 65,
   "metadata": {},
   "outputs": [],
   "source": [
    "np.save( \"biographies/test_points_medium.npy\", np.load(\"biographies/test_points.npy\")[:5000],)"
   ]
  },
  {
   "cell_type": "code",
   "execution_count": null,
   "metadata": {},
   "outputs": [],
   "source": []
  }
 ],
 "metadata": {
  "kernelspec": {
   "display_name": "Python 3.9.18 ('trlx')",
   "language": "python",
   "name": "python3"
  },
  "language_info": {
   "codemirror_mode": {
    "name": "ipython",
    "version": 3
   },
   "file_extension": ".py",
   "mimetype": "text/x-python",
   "name": "python",
   "nbconvert_exporter": "python",
   "pygments_lexer": "ipython3",
   "version": "3.9.18"
  },
  "orig_nbformat": 4,
  "vscode": {
   "interpreter": {
    "hash": "72a3fd4a13b86e2ebaa0e8e208d83864f5fab883245b2c176f0efba32410842e"
   }
  }
 },
 "nbformat": 4,
 "nbformat_minor": 2
}
