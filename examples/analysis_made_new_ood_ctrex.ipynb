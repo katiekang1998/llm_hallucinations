{
 "cells": [
  {
   "cell_type": "code",
   "execution_count": 2,
   "metadata": {},
   "outputs": [],
   "source": [
    "import numpy as np\n",
    "import matplotlib.pyplot as plt"
   ]
  },
  {
   "cell_type": "code",
   "execution_count": 3,
   "metadata": {},
   "outputs": [],
   "source": [
    "ood_idxs = np.load(\"custom_trex/ood_points.npy\")"
   ]
  },
  {
   "cell_type": "code",
   "execution_count": 4,
   "metadata": {},
   "outputs": [],
   "source": [
    "generation_categories = np.load(\"ckpts/sft_ctrex_llama7B_2_commit_lr1e-5_2/checkpoint_30000/hf_model/generation_categories.npy\")\n",
    "generation_categories2 = np.load(\"ckpts/ppo_ctrex_llama7B_commit50_idk10/best_checkpoint/hf_model/generation_categories.npy\")"
   ]
  },
  {
   "cell_type": "code",
   "execution_count": 5,
   "metadata": {},
   "outputs": [
    {
     "data": {
      "text/plain": [
       "0.2944886287045774"
      ]
     },
     "execution_count": 5,
     "metadata": {},
     "output_type": "execute_result"
    }
   ],
   "source": [
    "generation_categories[:, 1].mean()"
   ]
  },
  {
   "cell_type": "code",
   "execution_count": 6,
   "metadata": {},
   "outputs": [
    {
     "data": {
      "text/plain": [
       "9.762274011599498"
      ]
     },
     "execution_count": 6,
     "metadata": {},
     "output_type": "execute_result"
    }
   ],
   "source": [
    "0.2789221146171285*35"
   ]
  },
  {
   "cell_type": "code",
   "execution_count": 7,
   "metadata": {},
   "outputs": [
    {
     "name": "stdout",
     "output_type": "stream",
     "text": [
      "630\n"
     ]
    },
    {
     "data": {
      "text/plain": [
       "0.5507936507936508"
      ]
     },
     "execution_count": 7,
     "metadata": {},
     "output_type": "execute_result"
    }
   ],
   "source": [
    "idxs_num_mentions = np.load(\"old_trex_ood_eval/trex_ood_idxs_128+.npy\")\n",
    "intersection  = np.intersect1d(idxs_num_mentions, ood_idxs)\n",
    "idxs = np.where([i in intersection for i in ood_idxs])[0]\n",
    "print(len(idxs))\n",
    "generation_categories[idxs, 1].mean()"
   ]
  },
  {
   "cell_type": "code",
   "execution_count": 8,
   "metadata": {},
   "outputs": [
    {
     "name": "stdout",
     "output_type": "stream",
     "text": [
      "418\n",
      "0.5334928229665071\n",
      "0.5674846625766872\n",
      "0.22009569377990432\n"
     ]
    }
   ],
   "source": [
    "idxs_num_mentions = np.load(\"old_trex_ood_eval/trex_ood_idxs_64_128.npy\")\n",
    "intersection  = np.intersect1d(idxs_num_mentions, ood_idxs)\n",
    "idxs = np.where([i in intersection for i in ood_idxs])[0]\n",
    "print(len(idxs))\n",
    "print(generation_categories[idxs, 1].mean())\n",
    "print(generation_categories2[idxs, 1].mean()/(1-generation_categories2[idxs, 3].mean()))\n",
    "print(generation_categories2[idxs, 3].mean())"
   ]
  },
  {
   "cell_type": "code",
   "execution_count": 9,
   "metadata": {},
   "outputs": [
    {
     "name": "stdout",
     "output_type": "stream",
     "text": [
      "616\n",
      "0.4805194805194805\n",
      "0.5260960334029228\n",
      "0.2224025974025974\n"
     ]
    }
   ],
   "source": [
    "idxs_num_mentions = np.load(\"old_trex_ood_eval/trex_ood_idxs_32_64.npy\")\n",
    "intersection  = np.intersect1d(idxs_num_mentions, ood_idxs)\n",
    "idxs = np.where([i in intersection for i in ood_idxs])[0]\n",
    "print(len(idxs))\n",
    "print(generation_categories[idxs, 1].mean())\n",
    "print(generation_categories2[idxs, 1].mean()/(1-generation_categories2[idxs, 3].mean()))\n",
    "print(generation_categories2[idxs, 3].mean())"
   ]
  },
  {
   "cell_type": "code",
   "execution_count": 11,
   "metadata": {},
   "outputs": [
    {
     "name": "stdout",
     "output_type": "stream",
     "text": [
      "936\n",
      "0.41239316239316237\n",
      "0.5014792899408284\n",
      "0.2777777777777778\n"
     ]
    }
   ],
   "source": [
    "idxs_num_mentions = np.load(\"old_trex_ood_eval/trex_ood_idxs_16_32.npy\")\n",
    "intersection  = np.intersect1d(idxs_num_mentions, ood_idxs)\n",
    "idxs = np.where([i in intersection for i in ood_idxs])[0]\n",
    "print(len(idxs))\n",
    "print(generation_categories[idxs, 1].mean())\n",
    "print(generation_categories2[idxs, 1].mean()/(1-generation_categories2[idxs, 3].mean()))\n",
    "print(generation_categories2[idxs, 3].mean())"
   ]
  },
  {
   "cell_type": "code",
   "execution_count": 12,
   "metadata": {},
   "outputs": [
    {
     "name": "stdout",
     "output_type": "stream",
     "text": [
      "898\n",
      "0.3685968819599109\n",
      "0.4429012345679012\n",
      "0.27839643652561247\n"
     ]
    }
   ],
   "source": [
    "idxs_num_mentions = np.load(\"old_trex_ood_eval/trex_ood_idxs_8_16.npy\")\n",
    "intersection  = np.intersect1d(idxs_num_mentions, ood_idxs)\n",
    "idxs = np.where([i in intersection for i in ood_idxs])[0]\n",
    "print(len(idxs))\n",
    "print(generation_categories[idxs, 1].mean())\n",
    "print(generation_categories2[idxs, 1].mean()/(1-generation_categories2[idxs, 3].mean()))\n",
    "print(generation_categories2[idxs, 3].mean())"
   ]
  },
  {
   "cell_type": "code",
   "execution_count": 13,
   "metadata": {},
   "outputs": [
    {
     "name": "stdout",
     "output_type": "stream",
     "text": [
      "1009\n",
      "0.3290386521308226\n",
      "0.4078947368421052\n",
      "0.32210109018830524\n"
     ]
    }
   ],
   "source": [
    "idxs_num_mentions = np.load(\"old_trex_ood_eval/trex_ood_idxs_4_8.npy\")\n",
    "intersection  = np.intersect1d(idxs_num_mentions, ood_idxs)\n",
    "idxs = np.where([i in intersection for i in ood_idxs])[0]\n",
    "print(len(idxs))\n",
    "print(generation_categories[idxs, 1].mean())\n",
    "print(generation_categories2[idxs, 1].mean()/(1-generation_categories2[idxs, 3].mean()))\n",
    "print(generation_categories2[idxs, 3].mean())"
   ]
  },
  {
   "cell_type": "code",
   "execution_count": 14,
   "metadata": {},
   "outputs": [
    {
     "name": "stdout",
     "output_type": "stream",
     "text": [
      "865\n",
      "0.2682080924855491\n",
      "0.3646209386281588\n",
      "0.35953757225433525\n"
     ]
    }
   ],
   "source": [
    "idxs_num_mentions = np.load(\"old_trex_ood_eval/trex_ood_idxs_2_4.npy\")\n",
    "intersection  = np.intersect1d(idxs_num_mentions, ood_idxs)\n",
    "idxs = np.where([i in intersection for i in ood_idxs])[0]\n",
    "print(len(idxs))\n",
    "print(generation_categories[idxs, 1].mean())\n",
    "print(generation_categories2[idxs, 1].mean()/(1-generation_categories2[idxs, 3].mean()))\n",
    "print(generation_categories2[idxs, 3].mean())"
   ]
  },
  {
   "cell_type": "code",
   "execution_count": 15,
   "metadata": {},
   "outputs": [
    {
     "name": "stdout",
     "output_type": "stream",
     "text": [
      "676\n",
      "0.1893491124260355\n",
      "0.2792553191489362\n",
      "0.4437869822485207\n"
     ]
    }
   ],
   "source": [
    "idxs_num_mentions = np.load(\"old_trex_ood_eval/trex_ood_idxs_2.npy\")\n",
    "intersection  = np.intersect1d(idxs_num_mentions, ood_idxs)\n",
    "idxs = np.where([i in intersection for i in ood_idxs])[0]\n",
    "print(len(idxs))\n",
    "print(generation_categories[idxs, 1].mean())\n",
    "print(generation_categories2[idxs, 1].mean()/(1-generation_categories2[idxs, 3].mean()))\n",
    "print(generation_categories2[idxs, 3].mean())"
   ]
  },
  {
   "cell_type": "code",
   "execution_count": 16,
   "metadata": {},
   "outputs": [
    {
     "name": "stdout",
     "output_type": "stream",
     "text": [
      "1116\n",
      "0.19086021505376344\n",
      "0.29120879120879123\n",
      "0.510752688172043\n"
     ]
    }
   ],
   "source": [
    "idxs_num_mentions = np.load(\"old_trex_ood_eval/trex_ood_idxs_1.npy\")\n",
    "intersection  = np.intersect1d(idxs_num_mentions, ood_idxs)\n",
    "idxs = np.where([i in intersection for i in ood_idxs])[0]\n",
    "print(len(idxs))\n",
    "print(generation_categories[idxs, 1].mean())\n",
    "print(generation_categories2[idxs, 1].mean()/(1-generation_categories2[idxs, 3].mean()))\n",
    "print(generation_categories2[idxs, 3].mean())"
   ]
  },
  {
   "cell_type": "code",
   "execution_count": 17,
   "metadata": {},
   "outputs": [
    {
     "name": "stdout",
     "output_type": "stream",
     "text": [
      "2064\n",
      "0.16375968992248063\n",
      "0.18238213399503722\n",
      "0.6094961240310077\n"
     ]
    }
   ],
   "source": [
    "idxs_num_mentions = np.load(\"old_trex_ood_eval/trex_ood_idxs_0.npy\")\n",
    "intersection  = np.intersect1d(idxs_num_mentions, ood_idxs)\n",
    "idxs = np.where([i in intersection for i in ood_idxs])[0]\n",
    "print(len(idxs))\n",
    "print(generation_categories[idxs, 1].mean())\n",
    "print(generation_categories2[idxs, 1].mean()/(1-generation_categories2[idxs, 3].mean()))\n",
    "print(generation_categories2[idxs, 3].mean())"
   ]
  },
  {
   "cell_type": "code",
   "execution_count": 10,
   "metadata": {},
   "outputs": [
    {
     "name": "stdout",
     "output_type": "stream",
     "text": [
      "1311\n",
      "0.2547673531655225\n"
     ]
    }
   ],
   "source": [
    "# 0\n",
    "# 1, 2\n",
    "# 2_4, 4_8\n",
    "# 8_16, 16_32\n",
    "# 32_64, 64_128, 128+\n",
    "\n",
    "\n",
    "idxs_num_mentions = np.load(\"old_trex_ood_eval/trex_ood_idxs_0.npy\")\n",
    "intersection  = np.intersect1d(idxs_num_mentions, ood_idxs)\n",
    "idxs = np.where([i in intersection for i in ood_idxs])[0]\n",
    "print(len(idxs))\n",
    "print(generation_categories[idxs, 1].mean())\n",
    "np.save(\"custom_trex/ood_points_0.npy\", idxs)\n"
   ]
  },
  {
   "cell_type": "code",
   "execution_count": 11,
   "metadata": {},
   "outputs": [
    {
     "name": "stdout",
     "output_type": "stream",
     "text": [
      "1168\n",
      "0.2868150684931507\n"
     ]
    }
   ],
   "source": [
    "idxs_num_mentions = np.concatenate([np.load(\"old_trex_ood_eval/trex_ood_idxs_1.npy\"), np.load(\"old_trex_ood_eval/trex_ood_idxs_2.npy\")])\n",
    "intersection  = np.intersect1d(idxs_num_mentions, ood_idxs)\n",
    "idxs = np.where([i in intersection for i in ood_idxs])[0]\n",
    "print(len(idxs))\n",
    "print(generation_categories[idxs, 1].mean())\n",
    "np.save(\"custom_trex/ood_points_1_2.npy\", idxs)"
   ]
  },
  {
   "cell_type": "code",
   "execution_count": 12,
   "metadata": {},
   "outputs": [
    {
     "name": "stdout",
     "output_type": "stream",
     "text": [
      "1405\n",
      "0.39644128113879\n"
     ]
    }
   ],
   "source": [
    "idxs_num_mentions = np.concatenate([np.load(\"old_trex_ood_eval/trex_ood_idxs_2_4.npy\"), np.load(\"old_trex_ood_eval/trex_ood_idxs_4_8.npy\")])\n",
    "intersection  = np.intersect1d(idxs_num_mentions, ood_idxs)\n",
    "idxs = np.where([i in intersection for i in ood_idxs])[0]\n",
    "print(len(idxs))\n",
    "print(generation_categories[idxs, 1].mean())\n",
    "np.save(\"custom_trex/ood_points_3_8.npy\", idxs)\n"
   ]
  },
  {
   "cell_type": "code",
   "execution_count": 13,
   "metadata": {},
   "outputs": [
    {
     "name": "stdout",
     "output_type": "stream",
     "text": [
      "1416\n",
      "0.5007062146892656\n"
     ]
    }
   ],
   "source": [
    "idxs_num_mentions = np.concatenate([np.load(\"old_trex_ood_eval/trex_ood_idxs_8_16.npy\"), np.load(\"old_trex_ood_eval/trex_ood_idxs_16_32.npy\")])\n",
    "intersection  = np.intersect1d(idxs_num_mentions, ood_idxs)\n",
    "idxs = np.where([i in intersection for i in ood_idxs])[0]\n",
    "print(len(idxs))\n",
    "print(generation_categories[idxs, 1].mean())\n",
    "np.save(\"custom_trex/ood_points_9_32.npy\", idxs)"
   ]
  },
  {
   "cell_type": "code",
   "execution_count": 14,
   "metadata": {},
   "outputs": [
    {
     "name": "stdout",
     "output_type": "stream",
     "text": [
      "1664\n",
      "0.5204326923076923\n"
     ]
    }
   ],
   "source": [
    "idxs_num_mentions = np.concatenate([np.load(\"old_trex_ood_eval/trex_ood_idxs_32_64.npy\"), np.load(\"old_trex_ood_eval/trex_ood_idxs_64_128.npy\")\n",
    "                                    , np.load(\"old_trex_ood_eval/trex_ood_idxs_128+.npy\")])\n",
    "intersection  = np.intersect1d(idxs_num_mentions, ood_idxs)\n",
    "idxs = np.where([i in intersection for i in ood_idxs])[0]\n",
    "print(len(idxs))\n",
    "print(generation_categories[idxs, 1].mean())\n",
    "np.save(\"custom_trex/ood_points_33+.npy\", idxs)"
   ]
  },
  {
   "cell_type": "code",
   "execution_count": null,
   "metadata": {},
   "outputs": [],
   "source": []
  }
 ],
 "metadata": {
  "kernelspec": {
   "display_name": "Python 3.9.18 ('trlx')",
   "language": "python",
   "name": "python3"
  },
  "language_info": {
   "codemirror_mode": {
    "name": "ipython",
    "version": 3
   },
   "file_extension": ".py",
   "mimetype": "text/x-python",
   "name": "python",
   "nbconvert_exporter": "python",
   "pygments_lexer": "ipython3",
   "version": "3.9.18"
  },
  "vscode": {
   "interpreter": {
    "hash": "72a3fd4a13b86e2ebaa0e8e208d83864f5fab883245b2c176f0efba32410842e"
   }
  }
 },
 "nbformat": 4,
 "nbformat_minor": 2
}
